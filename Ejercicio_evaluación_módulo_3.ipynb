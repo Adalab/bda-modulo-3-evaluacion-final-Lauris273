{
 "cells": [
  {
   "cell_type": "markdown",
   "id": "ec731709",
   "metadata": {},
   "source": [
    "# Evaluación Módulo 3\n",
    "\n",
    "### Exploración, limpieza y visualización de los datos de clientes de una aerolínea\n",
    "\n",
    "\n",
    "## ANÁLISIS EXPLORATORIO DE LOS DATOS: INFORME EDA\n",
    "\n",
    "Los datos que se proporciona consisten en dos conjuntos de archivos que, en conjunto, describen el comportamiento de los clientes dentro de un programa de lealtad de una aerolínea:\n",
    "\n",
    "### Customer Flight Activity.csv\n",
    "\n",
    "Este archivo contiene información sobre la actividad de vuelo de los clientes, incluyendo el número de vuelos reservados, la distancia volada, puntos acumulados y redimidos, y costos asociados a los puntos redimidos. Las columnas que encontramos en el DataFrame del archivo \"Customer Flight Activity.csv\" son:\n",
    "\n",
    "- Loyalty Number: Este atributo representa un identificador único para cada cliente dentro del programa de lealtad de la aerolínea. Cada número de lealtad corresponde a un cliente específico.\n",
    "\n",
    "- Year: Indica el año en el cual se registraron las actividades de vuelo para el cliente.\n",
    "\n",
    "- Month: Representa el mes del año (de 1 a 12) en el cual ocurrieron las actividades de vuelo.\n",
    "\n",
    "- Flights Booked: Número total de vuelos reservados por el cliente en ese mes específico.\n",
    "\n",
    "- Flights with Companions: Número de vuelos reservados en los cuales el cliente viajó con acompañantes.\n",
    "\n",
    "- Total Flights: El número total de vuelos que el cliente ha realizado, que puede incluir vuelos reservados en meses anteriores.\n",
    "\n",
    "- Distance: La distancia total (presumiblemente en millas o kilómetros) que el cliente ha volado durante el mes.\n",
    "\n",
    "- Points Accumulated: Puntos acumulados por el cliente en el programa de lealtad durante el mes, con base en la distancia volada u otros factores.\n",
    "\n",
    "- Points Redeemed: Puntos que el cliente ha redimido en el mes, posiblemente para obtener beneficios como vuelos gratis, mejoras, etc.\n",
    "\n",
    "- Dollar Cost Points Redeemed: El valor en dólares de los puntos que el cliente ha redimido durante el mes.\n",
    "\n",
    "### Customer Loyalty History.csv\n",
    "\n",
    "Este archivo proporciona un perfil detallado de los clientes, incluyendo su ubicación, nivel educativo, ingresos, estado civil, y detalles sobre su membresía en el programa de lealtad (como el tipo de tarjeta, valor de vida del cliente, y fechas de inscripción y cancelación). Las columnas que encontramos en el DataFrame del archivo \"Customer Loyalty History.csv\" son:\n",
    "\n",
    "- Loyalty Number: Identificador único del cliente dentro del programa de lealtad. Este número permite correlacionar la información de este archivo con el archivo de actividad de vuelos.\n",
    "\n",
    "- Country: País de residencia del cliente.\n",
    "\n",
    "- Province: Provincia o estado de residencia del cliente (aplicable a países con divisiones provinciales o estatales, como Canadá).\n",
    "\n",
    "- City: Ciudad de residencia del cliente.\n",
    "\n",
    "- Postal Code: Código postal del cliente.\n",
    "\n",
    "- Gender: Género del cliente (ej. Male para masculino y Female para femenino).\n",
    "\n",
    "- Education: Nivel educativo alcanzado por el cliente (ej. Bachelor para licenciatura, College para estudios universitarios o técnicos, etc.).\n",
    "\n",
    "- Salary: Ingreso anual estimado del cliente.\n",
    "\n",
    "- Marital Status: Estado civil del cliente (ej. Single para soltero, Married para casado, Divorced para divorciado, etc.).\n",
    "\n",
    "- Loyalty Card: Tipo de tarjeta de lealtad que posee el cliente. Esto podría indicar distintos niveles o categorías dentro del programa de lealtad.\n",
    "\n",
    "- CLV (Customer Lifetime Value): Valor total estimado que el cliente aporta a la empresa durante toda la relación que mantiene con ella.\n",
    "\n",
    "- Enrollment Type: Tipo de inscripción del cliente en el programa de lealtad (ej. Standard).\n",
    "\n",
    "- Enrollment Year: Año en que el cliente se inscribió en el programa de lealtad.\n",
    "\n",
    "- Enrollment Month: Mes en que el cliente se inscribió en el programa de lealtad.\n",
    "\n",
    "- Cancellation Year: Año en que el cliente canceló su membresía en el programa de lealtad, si aplica.\n",
    "\n",
    "- Cancellation Month: Mes en que el cliente canceló su membresía en el programa de lealtad, si aplica."
   ]
  },
  {
   "cell_type": "markdown",
   "id": "b678ef00",
   "metadata": {},
   "source": [
    "## INFORME DE TRANSFORMACIÓN DE LOS DATOS\n",
    "\n",
    "Incluye la limpieza de datos, la normalización, la conversión de tipos de datos y la aplicación de reglas específicas. Las transformaciones se han realizado mediante funciones de Python aplicados a los datos extraídos."
   ]
  },
  {
   "cell_type": "code",
   "execution_count": 1,
   "id": "c9458d38",
   "metadata": {},
   "outputs": [],
   "source": [
    "# Importo las librerías que necesitaré:\n",
    "\n",
    "# Tratamiento de datos\n",
    "# -----------------------------------------------------------------------\n",
    "import pandas as pd\n",
    "import numpy as np\n",
    "\n",
    "# Visualización de datos en gráficas\n",
    "# -----------------------------------------------------------------------\n",
    "import matplotlib.pyplot as plt\n",
    "import seaborn as sns"
   ]
  },
  {
   "cell_type": "markdown",
   "id": "ff417b4b",
   "metadata": {},
   "source": [
    "### Customer Flight Activity.csv"
   ]
  },
  {
   "cell_type": "code",
   "execution_count": 2,
   "id": "7d137c6d",
   "metadata": {},
   "outputs": [
    {
     "data": {
      "text/html": [
       "<div>\n",
       "<style scoped>\n",
       "    .dataframe tbody tr th:only-of-type {\n",
       "        vertical-align: middle;\n",
       "    }\n",
       "\n",
       "    .dataframe tbody tr th {\n",
       "        vertical-align: top;\n",
       "    }\n",
       "\n",
       "    .dataframe thead th {\n",
       "        text-align: right;\n",
       "    }\n",
       "</style>\n",
       "<table border=\"1\" class=\"dataframe\">\n",
       "  <thead>\n",
       "    <tr style=\"text-align: right;\">\n",
       "      <th></th>\n",
       "      <th>Year</th>\n",
       "      <th>Month</th>\n",
       "      <th>Flights Booked</th>\n",
       "      <th>Flights with Companions</th>\n",
       "      <th>Total Flights</th>\n",
       "      <th>Distance</th>\n",
       "      <th>Points Accumulated</th>\n",
       "      <th>Points Redeemed</th>\n",
       "      <th>Dollar Cost Points Redeemed</th>\n",
       "    </tr>\n",
       "    <tr>\n",
       "      <th>Loyalty Number</th>\n",
       "      <th></th>\n",
       "      <th></th>\n",
       "      <th></th>\n",
       "      <th></th>\n",
       "      <th></th>\n",
       "      <th></th>\n",
       "      <th></th>\n",
       "      <th></th>\n",
       "      <th></th>\n",
       "    </tr>\n",
       "  </thead>\n",
       "  <tbody>\n",
       "    <tr>\n",
       "      <th>100018</th>\n",
       "      <td>2017</td>\n",
       "      <td>1</td>\n",
       "      <td>3</td>\n",
       "      <td>0</td>\n",
       "      <td>3</td>\n",
       "      <td>1521</td>\n",
       "      <td>152.0</td>\n",
       "      <td>0</td>\n",
       "      <td>0</td>\n",
       "    </tr>\n",
       "    <tr>\n",
       "      <th>100102</th>\n",
       "      <td>2017</td>\n",
       "      <td>1</td>\n",
       "      <td>10</td>\n",
       "      <td>4</td>\n",
       "      <td>14</td>\n",
       "      <td>2030</td>\n",
       "      <td>203.0</td>\n",
       "      <td>0</td>\n",
       "      <td>0</td>\n",
       "    </tr>\n",
       "  </tbody>\n",
       "</table>\n",
       "</div>"
      ],
      "text/plain": [
       "                Year  Month  Flights Booked  Flights with Companions  \\\n",
       "Loyalty Number                                                         \n",
       "100018          2017      1               3                        0   \n",
       "100102          2017      1              10                        4   \n",
       "\n",
       "                Total Flights  Distance  Points Accumulated  Points Redeemed  \\\n",
       "Loyalty Number                                                                 \n",
       "100018                      3      1521               152.0                0   \n",
       "100102                     14      2030               203.0                0   \n",
       "\n",
       "                Dollar Cost Points Redeemed  \n",
       "Loyalty Number                               \n",
       "100018                                    0  \n",
       "100102                                    0  "
      ]
     },
     "execution_count": 2,
     "metadata": {},
     "output_type": "execute_result"
    }
   ],
   "source": [
    "df_vuelos = pd.read_csv(\"files/Customer Flight Activity.csv\", index_col=0)\n",
    "\n",
    "df_vuelos.head(2)"
   ]
  },
  {
   "cell_type": "code",
   "execution_count": 3,
   "id": "3f9c9c10",
   "metadata": {},
   "outputs": [
    {
     "name": "stdout",
     "output_type": "stream",
     "text": [
      "El número de filas que tenemos es 405624, y el número de columnas es 9\n",
      "Nota: La columna Loyalty Number no se cuenta en .shape porque es el índice, pero también forma parte del DataFrame.\n"
     ]
    }
   ],
   "source": [
    "print(f\"El número de filas que tenemos es {df_vuelos.shape[0]}, y el número de columnas es {df_vuelos.shape[1]}\")\n",
    "print(\"Nota: La columna Loyalty Number no se cuenta en .shape porque es el índice, pero también forma parte del DataFrame.\")"
   ]
  },
  {
   "cell_type": "code",
   "execution_count": 4,
   "id": "4f83a077",
   "metadata": {},
   "outputs": [],
   "source": [
    "# Convierto el índice de nuevo en una columna para revisar la columna \"Loyalty Number\"\n",
    "df_vuelos = df_vuelos.reset_index()"
   ]
  },
  {
   "cell_type": "code",
   "execution_count": 5,
   "id": "a57b9936",
   "metadata": {},
   "outputs": [
    {
     "name": "stdout",
     "output_type": "stream",
     "text": [
      "El número de filas que tenemos es 405624, y el número de columnas es 10\n"
     ]
    }
   ],
   "source": [
    "print(f\"El número de filas que tenemos es {df_vuelos.shape[0]}, y el número de columnas es {df_vuelos.shape[1]}\")"
   ]
  },
  {
   "cell_type": "code",
   "execution_count": 6,
   "id": "a6d5ae2b",
   "metadata": {},
   "outputs": [
    {
     "name": "stdout",
     "output_type": "stream",
     "text": [
      "<class 'pandas.core.frame.DataFrame'>\n",
      "RangeIndex: 405624 entries, 0 to 405623\n",
      "Data columns (total 10 columns):\n",
      " #   Column                       Non-Null Count   Dtype  \n",
      "---  ------                       --------------   -----  \n",
      " 0   Loyalty Number               405624 non-null  int64  \n",
      " 1   Year                         405624 non-null  int64  \n",
      " 2   Month                        405624 non-null  int64  \n",
      " 3   Flights Booked               405624 non-null  int64  \n",
      " 4   Flights with Companions      405624 non-null  int64  \n",
      " 5   Total Flights                405624 non-null  int64  \n",
      " 6   Distance                     405624 non-null  int64  \n",
      " 7   Points Accumulated           405624 non-null  float64\n",
      " 8   Points Redeemed              405624 non-null  int64  \n",
      " 9   Dollar Cost Points Redeemed  405624 non-null  int64  \n",
      "dtypes: float64(1), int64(9)\n",
      "memory usage: 30.9 MB\n"
     ]
    }
   ],
   "source": [
    "df_vuelos.info()"
   ]
  },
  {
   "cell_type": "code",
   "execution_count": 7,
   "id": "bc45ec63",
   "metadata": {},
   "outputs": [
    {
     "data": {
      "text/plain": [
       "Loyalty Number                 0.0\n",
       "Year                           0.0\n",
       "Month                          0.0\n",
       "Flights Booked                 0.0\n",
       "Flights with Companions        0.0\n",
       "Total Flights                  0.0\n",
       "Distance                       0.0\n",
       "Points Accumulated             0.0\n",
       "Points Redeemed                0.0\n",
       "Dollar Cost Points Redeemed    0.0\n",
       "dtype: float64"
      ]
     },
     "execution_count": 7,
     "metadata": {},
     "output_type": "execute_result"
    }
   ],
   "source": [
    "# no parece que haya valores NULOS, pero compruebo:\n",
    "round(df_vuelos.isna().sum()/df_vuelos.shape[0]*100, 10)"
   ]
  },
  {
   "cell_type": "code",
   "execution_count": 8,
   "id": "94a435b1",
   "metadata": {},
   "outputs": [
    {
     "data": {
      "text/plain": [
       "np.int64(1864)"
      ]
     },
     "execution_count": 8,
     "metadata": {},
     "output_type": "execute_result"
    }
   ],
   "source": [
    "df_vuelos.duplicated().sum()"
   ]
  },
  {
   "cell_type": "code",
   "execution_count": 9,
   "id": "5883ee10",
   "metadata": {},
   "outputs": [
    {
     "data": {
      "text/html": [
       "<div>\n",
       "<style scoped>\n",
       "    .dataframe tbody tr th:only-of-type {\n",
       "        vertical-align: middle;\n",
       "    }\n",
       "\n",
       "    .dataframe tbody tr th {\n",
       "        vertical-align: top;\n",
       "    }\n",
       "\n",
       "    .dataframe thead th {\n",
       "        text-align: right;\n",
       "    }\n",
       "</style>\n",
       "<table border=\"1\" class=\"dataframe\">\n",
       "  <thead>\n",
       "    <tr style=\"text-align: right;\">\n",
       "      <th></th>\n",
       "      <th>Loyalty Number</th>\n",
       "      <th>Year</th>\n",
       "      <th>Month</th>\n",
       "      <th>Flights Booked</th>\n",
       "      <th>Flights with Companions</th>\n",
       "      <th>Total Flights</th>\n",
       "      <th>Distance</th>\n",
       "      <th>Points Accumulated</th>\n",
       "      <th>Points Redeemed</th>\n",
       "      <th>Dollar Cost Points Redeemed</th>\n",
       "    </tr>\n",
       "  </thead>\n",
       "  <tbody>\n",
       "    <tr>\n",
       "      <th>41</th>\n",
       "      <td>101902</td>\n",
       "      <td>2017</td>\n",
       "      <td>1</td>\n",
       "      <td>0</td>\n",
       "      <td>0</td>\n",
       "      <td>0</td>\n",
       "      <td>0</td>\n",
       "      <td>0.0</td>\n",
       "      <td>0</td>\n",
       "      <td>0</td>\n",
       "    </tr>\n",
       "    <tr>\n",
       "      <th>42</th>\n",
       "      <td>101902</td>\n",
       "      <td>2017</td>\n",
       "      <td>1</td>\n",
       "      <td>0</td>\n",
       "      <td>0</td>\n",
       "      <td>0</td>\n",
       "      <td>0</td>\n",
       "      <td>0.0</td>\n",
       "      <td>0</td>\n",
       "      <td>0</td>\n",
       "    </tr>\n",
       "    <tr>\n",
       "      <th>226</th>\n",
       "      <td>112142</td>\n",
       "      <td>2017</td>\n",
       "      <td>1</td>\n",
       "      <td>0</td>\n",
       "      <td>0</td>\n",
       "      <td>0</td>\n",
       "      <td>0</td>\n",
       "      <td>0.0</td>\n",
       "      <td>0</td>\n",
       "      <td>0</td>\n",
       "    </tr>\n",
       "    <tr>\n",
       "      <th>227</th>\n",
       "      <td>112142</td>\n",
       "      <td>2017</td>\n",
       "      <td>1</td>\n",
       "      <td>0</td>\n",
       "      <td>0</td>\n",
       "      <td>0</td>\n",
       "      <td>0</td>\n",
       "      <td>0.0</td>\n",
       "      <td>0</td>\n",
       "      <td>0</td>\n",
       "    </tr>\n",
       "    <tr>\n",
       "      <th>477</th>\n",
       "      <td>126100</td>\n",
       "      <td>2017</td>\n",
       "      <td>1</td>\n",
       "      <td>0</td>\n",
       "      <td>0</td>\n",
       "      <td>0</td>\n",
       "      <td>0</td>\n",
       "      <td>0.0</td>\n",
       "      <td>0</td>\n",
       "      <td>0</td>\n",
       "    </tr>\n",
       "    <tr>\n",
       "      <th>...</th>\n",
       "      <td>...</td>\n",
       "      <td>...</td>\n",
       "      <td>...</td>\n",
       "      <td>...</td>\n",
       "      <td>...</td>\n",
       "      <td>...</td>\n",
       "      <td>...</td>\n",
       "      <td>...</td>\n",
       "      <td>...</td>\n",
       "      <td>...</td>\n",
       "    </tr>\n",
       "    <tr>\n",
       "      <th>405111</th>\n",
       "      <td>971370</td>\n",
       "      <td>2018</td>\n",
       "      <td>12</td>\n",
       "      <td>0</td>\n",
       "      <td>0</td>\n",
       "      <td>0</td>\n",
       "      <td>0</td>\n",
       "      <td>0.0</td>\n",
       "      <td>0</td>\n",
       "      <td>0</td>\n",
       "    </tr>\n",
       "    <tr>\n",
       "      <th>405409</th>\n",
       "      <td>988392</td>\n",
       "      <td>2018</td>\n",
       "      <td>12</td>\n",
       "      <td>0</td>\n",
       "      <td>0</td>\n",
       "      <td>0</td>\n",
       "      <td>0</td>\n",
       "      <td>0.0</td>\n",
       "      <td>0</td>\n",
       "      <td>0</td>\n",
       "    </tr>\n",
       "    <tr>\n",
       "      <th>405410</th>\n",
       "      <td>988392</td>\n",
       "      <td>2018</td>\n",
       "      <td>12</td>\n",
       "      <td>0</td>\n",
       "      <td>0</td>\n",
       "      <td>0</td>\n",
       "      <td>0</td>\n",
       "      <td>0.0</td>\n",
       "      <td>0</td>\n",
       "      <td>0</td>\n",
       "    </tr>\n",
       "    <tr>\n",
       "      <th>405436</th>\n",
       "      <td>989528</td>\n",
       "      <td>2018</td>\n",
       "      <td>12</td>\n",
       "      <td>0</td>\n",
       "      <td>0</td>\n",
       "      <td>0</td>\n",
       "      <td>0</td>\n",
       "      <td>0.0</td>\n",
       "      <td>0</td>\n",
       "      <td>0</td>\n",
       "    </tr>\n",
       "    <tr>\n",
       "      <th>405437</th>\n",
       "      <td>989528</td>\n",
       "      <td>2018</td>\n",
       "      <td>12</td>\n",
       "      <td>0</td>\n",
       "      <td>0</td>\n",
       "      <td>0</td>\n",
       "      <td>0</td>\n",
       "      <td>0.0</td>\n",
       "      <td>0</td>\n",
       "      <td>0</td>\n",
       "    </tr>\n",
       "  </tbody>\n",
       "</table>\n",
       "<p>3712 rows × 10 columns</p>\n",
       "</div>"
      ],
      "text/plain": [
       "        Loyalty Number  Year  Month  Flights Booked  Flights with Companions  \\\n",
       "41              101902  2017      1               0                        0   \n",
       "42              101902  2017      1               0                        0   \n",
       "226             112142  2017      1               0                        0   \n",
       "227             112142  2017      1               0                        0   \n",
       "477             126100  2017      1               0                        0   \n",
       "...                ...   ...    ...             ...                      ...   \n",
       "405111          971370  2018     12               0                        0   \n",
       "405409          988392  2018     12               0                        0   \n",
       "405410          988392  2018     12               0                        0   \n",
       "405436          989528  2018     12               0                        0   \n",
       "405437          989528  2018     12               0                        0   \n",
       "\n",
       "        Total Flights  Distance  Points Accumulated  Points Redeemed  \\\n",
       "41                  0         0                 0.0                0   \n",
       "42                  0         0                 0.0                0   \n",
       "226                 0         0                 0.0                0   \n",
       "227                 0         0                 0.0                0   \n",
       "477                 0         0                 0.0                0   \n",
       "...               ...       ...                 ...              ...   \n",
       "405111              0         0                 0.0                0   \n",
       "405409              0         0                 0.0                0   \n",
       "405410              0         0                 0.0                0   \n",
       "405436              0         0                 0.0                0   \n",
       "405437              0         0                 0.0                0   \n",
       "\n",
       "        Dollar Cost Points Redeemed  \n",
       "41                                0  \n",
       "42                                0  \n",
       "226                               0  \n",
       "227                               0  \n",
       "477                               0  \n",
       "...                             ...  \n",
       "405111                            0  \n",
       "405409                            0  \n",
       "405410                            0  \n",
       "405436                            0  \n",
       "405437                            0  \n",
       "\n",
       "[3712 rows x 10 columns]"
      ]
     },
     "execution_count": 9,
     "metadata": {},
     "output_type": "execute_result"
    }
   ],
   "source": [
    "# tenemos 1864 filas duplicadas, voy a comprobar si es así:\n",
    "df_vuelos[df_vuelos.duplicated(keep=False)]"
   ]
  },
  {
   "cell_type": "code",
   "execution_count": 10,
   "id": "bce2059e",
   "metadata": {},
   "outputs": [],
   "source": [
    "# voy a eliminar filas duplicadas conservando la primera aparición:\n",
    "df_vuelos = df_vuelos.drop_duplicates(keep='first')"
   ]
  },
  {
   "cell_type": "code",
   "execution_count": 11,
   "id": "cce8c549",
   "metadata": {},
   "outputs": [
    {
     "data": {
      "text/html": [
       "<div>\n",
       "<style scoped>\n",
       "    .dataframe tbody tr th:only-of-type {\n",
       "        vertical-align: middle;\n",
       "    }\n",
       "\n",
       "    .dataframe tbody tr th {\n",
       "        vertical-align: top;\n",
       "    }\n",
       "\n",
       "    .dataframe thead th {\n",
       "        text-align: right;\n",
       "    }\n",
       "</style>\n",
       "<table border=\"1\" class=\"dataframe\">\n",
       "  <thead>\n",
       "    <tr style=\"text-align: right;\">\n",
       "      <th></th>\n",
       "      <th>Loyalty Number</th>\n",
       "      <th>Year</th>\n",
       "      <th>Month</th>\n",
       "      <th>Flights Booked</th>\n",
       "      <th>Flights with Companions</th>\n",
       "      <th>Total Flights</th>\n",
       "      <th>Distance</th>\n",
       "      <th>Points Accumulated</th>\n",
       "      <th>Points Redeemed</th>\n",
       "      <th>Dollar Cost Points Redeemed</th>\n",
       "    </tr>\n",
       "  </thead>\n",
       "  <tbody>\n",
       "    <tr>\n",
       "      <th>0</th>\n",
       "      <td>100018</td>\n",
       "      <td>2017</td>\n",
       "      <td>1</td>\n",
       "      <td>3</td>\n",
       "      <td>0</td>\n",
       "      <td>3</td>\n",
       "      <td>1521</td>\n",
       "      <td>152.0</td>\n",
       "      <td>0</td>\n",
       "      <td>0</td>\n",
       "    </tr>\n",
       "    <tr>\n",
       "      <th>1</th>\n",
       "      <td>100102</td>\n",
       "      <td>2017</td>\n",
       "      <td>1</td>\n",
       "      <td>10</td>\n",
       "      <td>4</td>\n",
       "      <td>14</td>\n",
       "      <td>2030</td>\n",
       "      <td>203.0</td>\n",
       "      <td>0</td>\n",
       "      <td>0</td>\n",
       "    </tr>\n",
       "    <tr>\n",
       "      <th>2</th>\n",
       "      <td>100140</td>\n",
       "      <td>2017</td>\n",
       "      <td>1</td>\n",
       "      <td>6</td>\n",
       "      <td>0</td>\n",
       "      <td>6</td>\n",
       "      <td>1200</td>\n",
       "      <td>120.0</td>\n",
       "      <td>0</td>\n",
       "      <td>0</td>\n",
       "    </tr>\n",
       "    <tr>\n",
       "      <th>3</th>\n",
       "      <td>100214</td>\n",
       "      <td>2017</td>\n",
       "      <td>1</td>\n",
       "      <td>0</td>\n",
       "      <td>0</td>\n",
       "      <td>0</td>\n",
       "      <td>0</td>\n",
       "      <td>0.0</td>\n",
       "      <td>0</td>\n",
       "      <td>0</td>\n",
       "    </tr>\n",
       "    <tr>\n",
       "      <th>4</th>\n",
       "      <td>100272</td>\n",
       "      <td>2017</td>\n",
       "      <td>1</td>\n",
       "      <td>0</td>\n",
       "      <td>0</td>\n",
       "      <td>0</td>\n",
       "      <td>0</td>\n",
       "      <td>0.0</td>\n",
       "      <td>0</td>\n",
       "      <td>0</td>\n",
       "    </tr>\n",
       "  </tbody>\n",
       "</table>\n",
       "</div>"
      ],
      "text/plain": [
       "   Loyalty Number  Year  Month  Flights Booked  Flights with Companions  \\\n",
       "0          100018  2017      1               3                        0   \n",
       "1          100102  2017      1              10                        4   \n",
       "2          100140  2017      1               6                        0   \n",
       "3          100214  2017      1               0                        0   \n",
       "4          100272  2017      1               0                        0   \n",
       "\n",
       "   Total Flights  Distance  Points Accumulated  Points Redeemed  \\\n",
       "0              3      1521               152.0                0   \n",
       "1             14      2030               203.0                0   \n",
       "2              6      1200               120.0                0   \n",
       "3              0         0                 0.0                0   \n",
       "4              0         0                 0.0                0   \n",
       "\n",
       "   Dollar Cost Points Redeemed  \n",
       "0                            0  \n",
       "1                            0  \n",
       "2                            0  \n",
       "3                            0  \n",
       "4                            0  "
      ]
     },
     "execution_count": 11,
     "metadata": {},
     "output_type": "execute_result"
    }
   ],
   "source": [
    "df_vuelos.head()"
   ]
  },
  {
   "cell_type": "code",
   "execution_count": 15,
   "id": "53b46dd0",
   "metadata": {},
   "outputs": [
    {
     "name": "stdout",
     "output_type": "stream",
     "text": [
      "El número de filas que tenemos es 403760, y el número de columnas es 10\n",
      "Tenía 405624 filas menos las 1864 filas duplicadas son 403760 filas\n"
     ]
    }
   ],
   "source": [
    "print(f\"El número de filas que tenemos es {df_vuelos.shape[0]}, y el número de columnas es {df_vuelos.shape[1]}\")\n",
    "print(\"Tenía 405624 filas menos las 1864 filas duplicadas son 403760 filas\")"
   ]
  },
  {
   "cell_type": "code",
   "execution_count": 13,
   "id": "46ce2668",
   "metadata": {},
   "outputs": [
    {
     "data": {
      "text/plain": [
       "np.int64(0)"
      ]
     },
     "execution_count": 13,
     "metadata": {},
     "output_type": "execute_result"
    }
   ],
   "source": [
    "df_vuelos.duplicated().sum()\n",
    "# ahora no tenemos filas duplicadas"
   ]
  },
  {
   "cell_type": "code",
   "execution_count": 16,
   "id": "035d8b80",
   "metadata": {},
   "outputs": [
    {
     "name": "stdout",
     "output_type": "stream",
     "text": [
      "<class 'pandas.core.frame.DataFrame'>\n",
      "Index: 403760 entries, 0 to 405623\n",
      "Data columns (total 10 columns):\n",
      " #   Column                       Non-Null Count   Dtype  \n",
      "---  ------                       --------------   -----  \n",
      " 0   Loyalty Number               403760 non-null  int64  \n",
      " 1   Year                         403760 non-null  int64  \n",
      " 2   Month                        403760 non-null  int64  \n",
      " 3   Flights Booked               403760 non-null  int64  \n",
      " 4   Flights with Companions      403760 non-null  int64  \n",
      " 5   Total Flights                403760 non-null  int64  \n",
      " 6   Distance                     403760 non-null  int64  \n",
      " 7   Points Accumulated           403760 non-null  float64\n",
      " 8   Points Redeemed              403760 non-null  int64  \n",
      " 9   Dollar Cost Points Redeemed  403760 non-null  int64  \n",
      "dtypes: float64(1), int64(9)\n",
      "memory usage: 33.9 MB\n"
     ]
    }
   ],
   "source": [
    "df_vuelos.info()"
   ]
  },
  {
   "cell_type": "code",
   "execution_count": 17,
   "id": "0feb8965",
   "metadata": {},
   "outputs": [
    {
     "data": {
      "text/html": [
       "<div>\n",
       "<style scoped>\n",
       "    .dataframe tbody tr th:only-of-type {\n",
       "        vertical-align: middle;\n",
       "    }\n",
       "\n",
       "    .dataframe tbody tr th {\n",
       "        vertical-align: top;\n",
       "    }\n",
       "\n",
       "    .dataframe thead th {\n",
       "        text-align: right;\n",
       "    }\n",
       "</style>\n",
       "<table border=\"1\" class=\"dataframe\">\n",
       "  <thead>\n",
       "    <tr style=\"text-align: right;\">\n",
       "      <th></th>\n",
       "      <th>count</th>\n",
       "      <th>mean</th>\n",
       "      <th>std</th>\n",
       "      <th>min</th>\n",
       "      <th>25%</th>\n",
       "      <th>50%</th>\n",
       "      <th>75%</th>\n",
       "      <th>max</th>\n",
       "    </tr>\n",
       "  </thead>\n",
       "  <tbody>\n",
       "    <tr>\n",
       "      <th>Loyalty Number</th>\n",
       "      <td>403760.0</td>\n",
       "      <td>549875.383713</td>\n",
       "      <td>258961.514684</td>\n",
       "      <td>100018.0</td>\n",
       "      <td>326699.0</td>\n",
       "      <td>550598.0</td>\n",
       "      <td>772152.0</td>\n",
       "      <td>999986.0</td>\n",
       "    </tr>\n",
       "    <tr>\n",
       "      <th>Year</th>\n",
       "      <td>403760.0</td>\n",
       "      <td>2017.500352</td>\n",
       "      <td>0.500000</td>\n",
       "      <td>2017.0</td>\n",
       "      <td>2017.0</td>\n",
       "      <td>2018.0</td>\n",
       "      <td>2018.0</td>\n",
       "      <td>2018.0</td>\n",
       "    </tr>\n",
       "    <tr>\n",
       "      <th>Month</th>\n",
       "      <td>403760.0</td>\n",
       "      <td>6.501335</td>\n",
       "      <td>3.451982</td>\n",
       "      <td>1.0</td>\n",
       "      <td>4.0</td>\n",
       "      <td>7.0</td>\n",
       "      <td>10.0</td>\n",
       "      <td>12.0</td>\n",
       "    </tr>\n",
       "    <tr>\n",
       "      <th>Flights Booked</th>\n",
       "      <td>403760.0</td>\n",
       "      <td>4.134050</td>\n",
       "      <td>5.230064</td>\n",
       "      <td>0.0</td>\n",
       "      <td>0.0</td>\n",
       "      <td>1.0</td>\n",
       "      <td>8.0</td>\n",
       "      <td>21.0</td>\n",
       "    </tr>\n",
       "    <tr>\n",
       "      <th>Flights with Companions</th>\n",
       "      <td>403760.0</td>\n",
       "      <td>1.036569</td>\n",
       "      <td>2.080472</td>\n",
       "      <td>0.0</td>\n",
       "      <td>0.0</td>\n",
       "      <td>0.0</td>\n",
       "      <td>1.0</td>\n",
       "      <td>11.0</td>\n",
       "    </tr>\n",
       "    <tr>\n",
       "      <th>Total Flights</th>\n",
       "      <td>403760.0</td>\n",
       "      <td>5.170619</td>\n",
       "      <td>6.526858</td>\n",
       "      <td>0.0</td>\n",
       "      <td>0.0</td>\n",
       "      <td>1.0</td>\n",
       "      <td>10.0</td>\n",
       "      <td>32.0</td>\n",
       "    </tr>\n",
       "    <tr>\n",
       "      <th>Distance</th>\n",
       "      <td>403760.0</td>\n",
       "      <td>1214.460979</td>\n",
       "      <td>1434.098521</td>\n",
       "      <td>0.0</td>\n",
       "      <td>0.0</td>\n",
       "      <td>525.0</td>\n",
       "      <td>2342.0</td>\n",
       "      <td>6293.0</td>\n",
       "    </tr>\n",
       "    <tr>\n",
       "      <th>Points Accumulated</th>\n",
       "      <td>403760.0</td>\n",
       "      <td>124.263761</td>\n",
       "      <td>146.696179</td>\n",
       "      <td>0.0</td>\n",
       "      <td>0.0</td>\n",
       "      <td>53.0</td>\n",
       "      <td>240.0</td>\n",
       "      <td>676.5</td>\n",
       "    </tr>\n",
       "    <tr>\n",
       "      <th>Points Redeemed</th>\n",
       "      <td>403760.0</td>\n",
       "      <td>30.838587</td>\n",
       "      <td>125.758002</td>\n",
       "      <td>0.0</td>\n",
       "      <td>0.0</td>\n",
       "      <td>0.0</td>\n",
       "      <td>0.0</td>\n",
       "      <td>876.0</td>\n",
       "    </tr>\n",
       "    <tr>\n",
       "      <th>Dollar Cost Points Redeemed</th>\n",
       "      <td>403760.0</td>\n",
       "      <td>2.495973</td>\n",
       "      <td>10.172033</td>\n",
       "      <td>0.0</td>\n",
       "      <td>0.0</td>\n",
       "      <td>0.0</td>\n",
       "      <td>0.0</td>\n",
       "      <td>71.0</td>\n",
       "    </tr>\n",
       "  </tbody>\n",
       "</table>\n",
       "</div>"
      ],
      "text/plain": [
       "                                count           mean            std       min  \\\n",
       "Loyalty Number               403760.0  549875.383713  258961.514684  100018.0   \n",
       "Year                         403760.0    2017.500352       0.500000    2017.0   \n",
       "Month                        403760.0       6.501335       3.451982       1.0   \n",
       "Flights Booked               403760.0       4.134050       5.230064       0.0   \n",
       "Flights with Companions      403760.0       1.036569       2.080472       0.0   \n",
       "Total Flights                403760.0       5.170619       6.526858       0.0   \n",
       "Distance                     403760.0    1214.460979    1434.098521       0.0   \n",
       "Points Accumulated           403760.0     124.263761     146.696179       0.0   \n",
       "Points Redeemed              403760.0      30.838587     125.758002       0.0   \n",
       "Dollar Cost Points Redeemed  403760.0       2.495973      10.172033       0.0   \n",
       "\n",
       "                                  25%       50%       75%       max  \n",
       "Loyalty Number               326699.0  550598.0  772152.0  999986.0  \n",
       "Year                           2017.0    2018.0    2018.0    2018.0  \n",
       "Month                             4.0       7.0      10.0      12.0  \n",
       "Flights Booked                    0.0       1.0       8.0      21.0  \n",
       "Flights with Companions           0.0       0.0       1.0      11.0  \n",
       "Total Flights                     0.0       1.0      10.0      32.0  \n",
       "Distance                          0.0     525.0    2342.0    6293.0  \n",
       "Points Accumulated                0.0      53.0     240.0     676.5  \n",
       "Points Redeemed                   0.0       0.0       0.0     876.0  \n",
       "Dollar Cost Points Redeemed       0.0       0.0       0.0      71.0  "
      ]
     },
     "execution_count": 17,
     "metadata": {},
     "output_type": "execute_result"
    }
   ],
   "source": [
    "df_vuelos.describe().T"
   ]
  },
  {
   "cell_type": "markdown",
   "id": "51c59262",
   "metadata": {},
   "source": [
    "Voy a realizar la exploración y transformación columna por columna.\n",
    "\n",
    "#### Loyalty Number: Este atributo representa un identificador único para cada cliente dentro del programa de lealtad de la aerolínea. Cada número de lealtad corresponde a un cliente específico.\n",
    "\n",
    "- Índice 0 \n",
    "- Datos de tipo integer, valores entre 100018 y 999986\n",
    "- No encuentro valores nulos ni errores"
   ]
  },
  {
   "cell_type": "code",
   "execution_count": 21,
   "id": "6a3896af",
   "metadata": {},
   "outputs": [
    {
     "data": {
      "text/plain": [
       "array([100018, 100102, 100140, ..., 999731, 999788, 999891],\n",
       "      shape=(16737,))"
      ]
     },
     "execution_count": 21,
     "metadata": {},
     "output_type": "execute_result"
    }
   ],
   "source": [
    "df_vuelos['Loyalty Number'].unique()"
   ]
  },
  {
   "cell_type": "code",
   "execution_count": 20,
   "id": "8ed43739",
   "metadata": {},
   "outputs": [
    {
     "data": {
      "text/plain": [
       "np.int64(0)"
      ]
     },
     "execution_count": 20,
     "metadata": {},
     "output_type": "execute_result"
    }
   ],
   "source": [
    "df_vuelos['Loyalty Number'].isnull().sum()"
   ]
  },
  {
   "cell_type": "code",
   "execution_count": 28,
   "id": "4a792b24",
   "metadata": {},
   "outputs": [
    {
     "data": {
      "text/plain": [
       "count    403760.000000\n",
       "mean     549875.383713\n",
       "std      258961.514684\n",
       "min      100018.000000\n",
       "25%      326699.000000\n",
       "50%      550598.000000\n",
       "75%      772152.000000\n",
       "max      999986.000000\n",
       "Name: Loyalty Number, dtype: float64"
      ]
     },
     "execution_count": 28,
     "metadata": {},
     "output_type": "execute_result"
    }
   ],
   "source": [
    "df_vuelos['Loyalty Number'].describe()"
   ]
  },
  {
   "cell_type": "markdown",
   "id": "d276a2f6",
   "metadata": {},
   "source": [
    "#### Year: Indica el año en el cual se registraron las actividades de vuelo para el cliente.\n",
    "\n",
    "- Índice 1 \n",
    "- Datos de tipo integer, valores 2017 y 2018\n",
    "- No encuentro valores nulos ni errores"
   ]
  },
  {
   "cell_type": "code",
   "execution_count": 22,
   "id": "f7e8e776",
   "metadata": {},
   "outputs": [
    {
     "data": {
      "text/plain": [
       "array([2017, 2018])"
      ]
     },
     "execution_count": 22,
     "metadata": {},
     "output_type": "execute_result"
    }
   ],
   "source": [
    "df_vuelos['Year'].unique()"
   ]
  },
  {
   "cell_type": "markdown",
   "id": "65637281",
   "metadata": {},
   "source": [
    "#### Month: Representa el mes del año (de 1 a 12) en el cual ocurrieron las actividades de vuelo.\n",
    "\n",
    "- Índice 2\n",
    "- Datos de tipo integer, valores entre 1 y 12.\n",
    "- No encuentro valores nulos ni errores"
   ]
  },
  {
   "cell_type": "code",
   "execution_count": 24,
   "id": "cc59c6bd",
   "metadata": {},
   "outputs": [
    {
     "data": {
      "text/plain": [
       "array([ 1,  9,  2,  3, 11,  4,  5,  7,  6,  8, 10, 12])"
      ]
     },
     "execution_count": 24,
     "metadata": {},
     "output_type": "execute_result"
    }
   ],
   "source": [
    "df_vuelos['Month'].unique()"
   ]
  },
  {
   "cell_type": "code",
   "execution_count": 25,
   "id": "8dc5667c",
   "metadata": {},
   "outputs": [
    {
     "data": {
      "text/plain": [
       "np.int64(0)"
      ]
     },
     "execution_count": 25,
     "metadata": {},
     "output_type": "execute_result"
    }
   ],
   "source": [
    "df_vuelos['Month'].isnull().sum()"
   ]
  },
  {
   "cell_type": "markdown",
   "id": "dcb6ba53",
   "metadata": {},
   "source": [
    "#### Flights Booked: Número total de vuelos reservados por el cliente en ese mes específico.\n",
    "\n",
    "- Índice 3\n",
    "- Datos de tipo integer, valores entre 0 y 21.\n",
    "- No encuentro valores nulos ni errores\n",
    "- Se observa una media de 4.13 vuelos por cliente y mes"
   ]
  },
  {
   "cell_type": "code",
   "execution_count": 26,
   "id": "3be985d7",
   "metadata": {},
   "outputs": [
    {
     "data": {
      "text/plain": [
       "array([ 3, 10,  6,  0,  8, 11,  9,  4,  7,  5,  2,  1, 12, 13, 14, 16, 15,\n",
       "       17, 18, 19, 20, 21])"
      ]
     },
     "execution_count": 26,
     "metadata": {},
     "output_type": "execute_result"
    }
   ],
   "source": [
    "df_vuelos['Flights Booked'].unique()"
   ]
  },
  {
   "cell_type": "code",
   "execution_count": 32,
   "id": "6a92218e",
   "metadata": {},
   "outputs": [
    {
     "data": {
      "text/plain": [
       "np.float64(4.134049930651872)"
      ]
     },
     "execution_count": 32,
     "metadata": {},
     "output_type": "execute_result"
    }
   ],
   "source": [
    "df_vuelos['Flights Booked'].mean()"
   ]
  },
  {
   "cell_type": "markdown",
   "id": "45c744fb",
   "metadata": {},
   "source": [
    "#### Flights with Companions: Número de vuelos reservados en los cuales el cliente viajó con acompañantes.\n",
    "\n",
    "- Índice 4\n",
    "- Datos de tipo integer, valores entre 0 y 11.\n",
    "- No encuentro valores nulos ni errores\n",
    "- Se observa una media de 1.04 vuelos por cliente con acompañantes"
   ]
  },
  {
   "cell_type": "code",
   "execution_count": 33,
   "id": "4410e51d",
   "metadata": {},
   "outputs": [
    {
     "data": {
      "text/plain": [
       "array([ 0,  4,  7,  1,  6,  3,  5,  2, 10,  8,  9, 11])"
      ]
     },
     "execution_count": 33,
     "metadata": {},
     "output_type": "execute_result"
    }
   ],
   "source": [
    "df_vuelos['Flights with Companions'].unique()"
   ]
  },
  {
   "cell_type": "code",
   "execution_count": 35,
   "id": "174a4e41",
   "metadata": {},
   "outputs": [
    {
     "data": {
      "text/plain": [
       "np.float64(1.0365687537150783)"
      ]
     },
     "execution_count": 35,
     "metadata": {},
     "output_type": "execute_result"
    }
   ],
   "source": [
    "df_vuelos['Flights with Companions'].mean()"
   ]
  },
  {
   "cell_type": "markdown",
   "id": "97164674",
   "metadata": {},
   "source": [
    "#### Total Flights: El número total de vuelos que el cliente ha realizado, que puede incluir vuelos reservados en meses anteriores.\n",
    "\n",
    "- Índice 5\n",
    "- Datos de tipo integer, valores entre 0 y 32.\n",
    "- No encuentro valores nulos ni errores\n",
    "- Se observa una media de 5.17 vuelos por cliente (puede incluir vuelos reservados en meses anteriores)"
   ]
  },
  {
   "cell_type": "code",
   "execution_count": 36,
   "id": "70e8e84b",
   "metadata": {},
   "outputs": [
    {
     "data": {
      "text/plain": [
       "array([ 3, 14,  6,  0, 15, 11, 12, 10,  8,  9,  7,  5, 16,  2,  1, 17, 13,\n",
       "       22,  4, 19, 18, 21, 26, 20, 23, 25, 27, 24, 28, 30, 29, 31, 32])"
      ]
     },
     "execution_count": 36,
     "metadata": {},
     "output_type": "execute_result"
    }
   ],
   "source": [
    "df_vuelos['Total Flights'].unique()"
   ]
  },
  {
   "cell_type": "code",
   "execution_count": 38,
   "id": "bf61bcf9",
   "metadata": {},
   "outputs": [
    {
     "data": {
      "text/plain": [
       "np.float64(5.170618684366951)"
      ]
     },
     "execution_count": 38,
     "metadata": {},
     "output_type": "execute_result"
    }
   ],
   "source": [
    "df_vuelos['Total Flights'].mean()"
   ]
  },
  {
   "cell_type": "markdown",
   "id": "4c00bd23",
   "metadata": {},
   "source": [
    "#### Distance: La distancia total (presumiblemente en millas o kilómetros) que el cliente ha volado durante el mes.\n",
    "\n",
    "- Índice 6\n",
    "- Datos de tipo integer, valores entre 0 y 6293.\n",
    "- No encuentro valores nulos ni errores\n",
    "- Se observa una media de 1214.46 (km o millas) por cliente en el mes"
   ]
  },
  {
   "cell_type": "code",
   "execution_count": 39,
   "id": "bbe99af2",
   "metadata": {},
   "outputs": [
    {
     "data": {
      "text/plain": [
       "array([1521, 2030, 1200, ..., 1217,  617, 4135], shape=(4746,))"
      ]
     },
     "execution_count": 39,
     "metadata": {},
     "output_type": "execute_result"
    }
   ],
   "source": [
    "df_vuelos['Distance'].unique()"
   ]
  },
  {
   "cell_type": "code",
   "execution_count": 40,
   "id": "4e39686c",
   "metadata": {},
   "outputs": [
    {
     "data": {
      "text/plain": [
       "np.int64(0)"
      ]
     },
     "execution_count": 40,
     "metadata": {},
     "output_type": "execute_result"
    }
   ],
   "source": [
    "df_vuelos['Distance'].isnull().sum()"
   ]
  },
  {
   "cell_type": "code",
   "execution_count": 41,
   "id": "d0bb3059",
   "metadata": {},
   "outputs": [
    {
     "data": {
      "text/plain": [
       "count    403760.000000\n",
       "mean       1214.460979\n",
       "std        1434.098521\n",
       "min           0.000000\n",
       "25%           0.000000\n",
       "50%         525.000000\n",
       "75%        2342.000000\n",
       "max        6293.000000\n",
       "Name: Distance, dtype: float64"
      ]
     },
     "execution_count": 41,
     "metadata": {},
     "output_type": "execute_result"
    }
   ],
   "source": [
    "df_vuelos['Distance'].describe()"
   ]
  },
  {
   "cell_type": "markdown",
   "id": "db9e6a05",
   "metadata": {},
   "source": [
    "#### Points Accumulated: Puntos acumulados por el cliente en el programa de lealtad durante el mes, con base en la distancia volada u otros factores.\n",
    "\n",
    "- Índice 7\n",
    "- Datos de tipo float, valores entre 0.0 y 676.5.\n",
    "- No encuentro valores nulos ni errores\n",
    "- Se observa una media de 124.26 puntos acumulados por cliente en el mes"
   ]
  },
  {
   "cell_type": "code",
   "execution_count": 42,
   "id": "40d3631e",
   "metadata": {},
   "outputs": [
    {
     "data": {
      "text/plain": [
       "array([152.  , 203.  , 120.  , ...,  18.75, 601.  , 626.  ], shape=(1549,))"
      ]
     },
     "execution_count": 42,
     "metadata": {},
     "output_type": "execute_result"
    }
   ],
   "source": [
    "df_vuelos['Points Accumulated'].unique()"
   ]
  },
  {
   "cell_type": "code",
   "execution_count": 43,
   "id": "0ef416d9",
   "metadata": {},
   "outputs": [
    {
     "data": {
      "text/plain": [
       "np.int64(0)"
      ]
     },
     "execution_count": 43,
     "metadata": {},
     "output_type": "execute_result"
    }
   ],
   "source": [
    "df_vuelos['Points Accumulated'].isnull().sum()"
   ]
  },
  {
   "cell_type": "code",
   "execution_count": 44,
   "id": "93001eb3",
   "metadata": {},
   "outputs": [
    {
     "data": {
      "text/plain": [
       "count    403760.000000\n",
       "mean        124.263761\n",
       "std         146.696179\n",
       "min           0.000000\n",
       "25%           0.000000\n",
       "50%          53.000000\n",
       "75%         240.000000\n",
       "max         676.500000\n",
       "Name: Points Accumulated, dtype: float64"
      ]
     },
     "execution_count": 44,
     "metadata": {},
     "output_type": "execute_result"
    }
   ],
   "source": [
    "df_vuelos['Points Accumulated'].describe()"
   ]
  },
  {
   "cell_type": "markdown",
   "id": "4bff14ee",
   "metadata": {},
   "source": [
    "#### Points Redeemed: Puntos que el cliente ha redimido en el mes, posiblemente para obtener beneficios como vuelos gratis, mejoras, etc.\n",
    "\n",
    "- Índice 8\n",
    "- Datos de tipo integer, valores entre 0 y 876.\n",
    "- No encuentro valores nulos ni errores\n",
    "- Se observa una media de 30.84 puntos redimidos por cliente en el mes, y se refiere a puntos que han sido canjeados o utilizados por un beneficio, recompensa o valor."
   ]
  },
  {
   "cell_type": "code",
   "execution_count": 50,
   "id": "e2269e04",
   "metadata": {},
   "outputs": [
    {
     "data": {
      "text/plain": [
       "array([  0, 341, 364, 310, 445, 312, 343, 366, 389, 292, 447, 324, 456,\n",
       "       409, 436, 327, 322, 291, 323, 300, 290, 309, 325, 386, 321, 363,\n",
       "       340, 670, 443, 517, 444, 328, 344, 367, 313, 333, 293, 449, 297,\n",
       "       455, 372, 356, 405, 381, 466, 419, 369, 352, 482, 335, 329, 305,\n",
       "       415, 396, 317, 348, 314, 334, 350, 330, 318, 298, 420, 336, 471,\n",
       "       680, 441, 353, 484, 301, 374, 417, 501, 299, 398, 307, 368, 306,\n",
       "       347, 439, 395, 481, 337, 382, 426, 373, 399, 424, 326, 392, 438,\n",
       "       467, 480, 448, 308, 400, 376, 375, 460, 339, 385, 611, 431, 320,\n",
       "       362, 404, 442, 410, 361, 319, 435, 414, 464, 477, 315, 485, 370,\n",
       "       421, 349, 371, 416, 496, 510, 667, 465, 434, 346, 487, 408, 500,\n",
       "       360, 378, 345, 358, 479, 380, 411, 491, 505, 446, 425, 476, 393,\n",
       "       418, 332, 401, 454, 303, 594, 506, 355, 302, 403, 379, 437, 561,\n",
       "       483, 597, 391, 562, 342, 407, 490, 468, 488, 457, 365, 357, 463,\n",
       "       388, 413, 351, 462, 440, 493, 507, 338, 377, 428, 525, 390, 473,\n",
       "       359, 423, 519, 453, 522, 429, 450, 383, 469, 402, 354, 422, 458,\n",
       "       384, 656, 461, 427, 478, 523, 719, 538, 515, 394, 472, 433, 387,\n",
       "       540, 530, 498, 512, 452, 311, 470, 541, 331, 570, 527, 658, 494,\n",
       "       638, 486, 509, 316, 492, 536, 502, 551, 504, 304, 296, 294, 495,\n",
       "       432, 526, 459, 589, 529, 586, 537, 503, 552, 779, 516, 639, 474,\n",
       "       547, 542, 557, 406, 563, 511, 518, 532, 553, 508, 560, 676, 716,\n",
       "       593, 513, 499, 566, 497, 546, 451, 533, 489, 708, 531, 567, 521,\n",
       "       412, 430, 610, 528, 556, 582, 720, 397, 578, 772, 571, 534, 539,\n",
       "       576, 585, 520, 601, 598, 630, 524, 588, 550, 514, 573, 544, 669,\n",
       "       577, 580, 591, 614, 574, 579, 595, 618, 776, 548, 602, 543, 581,\n",
       "       572, 607, 603, 564, 620, 615, 636, 575, 584, 559, 648, 590, 545,\n",
       "       627, 608, 568, 625, 637, 632, 650, 600, 613, 621, 535, 587, 475,\n",
       "       592, 624, 619, 554, 583, 628, 558, 664, 789, 635, 617, 699, 604,\n",
       "       646, 659, 616, 704, 569, 626, 609, 751, 599, 644, 800, 677, 666,\n",
       "       596, 612, 629, 657, 675, 702, 683, 633, 811, 688, 565, 706, 605,\n",
       "       549, 662, 660, 295, 673, 555, 631, 715, 651, 697, 792, 678, 655,\n",
       "       707, 668, 687, 622, 642, 781, 695, 711, 701, 721, 623, 693, 692,\n",
       "       640, 665, 684, 745, 808, 746, 749, 694, 643, 725, 850, 703, 726,\n",
       "       691, 740, 737, 689, 765, 649, 690, 661, 696, 682, 700, 750, 771,\n",
       "       798, 710, 736, 757, 743, 654, 758, 647, 606, 718, 739, 814, 761,\n",
       "       783, 679, 766, 777, 799, 723, 653, 730, 681, 760, 793, 742, 685,\n",
       "       734, 839, 782, 735, 756, 795, 728, 780, 802, 815, 851, 820, 770,\n",
       "       705, 738, 645, 686, 755, 754, 778, 671, 634, 762, 784, 717, 797,\n",
       "       744, 672, 768, 790, 741, 824, 748, 674, 825, 794, 845, 827, 801,\n",
       "       714, 731, 724, 876, 747, 663, 709, 823, 791, 804, 832, 698, 727,\n",
       "       833, 810, 864, 753, 840, 722, 641, 822, 834, 844, 865, 869, 733,\n",
       "       828, 773, 713, 821, 849, 767, 759, 729, 803, 838, 775, 818, 843,\n",
       "       830, 847, 872, 809, 786, 812, 785, 841, 752, 712, 816, 289, 652,\n",
       "       787, 852, 848, 769, 846, 870, 871, 796, 807, 774, 805, 763, 806,\n",
       "       836, 837, 857, 813, 873, 732, 826, 858, 817, 829, 819, 866, 842,\n",
       "       861, 855, 831, 875, 868, 835, 764, 862, 874, 860, 863, 854, 788,\n",
       "       867, 859])"
      ]
     },
     "execution_count": 50,
     "metadata": {},
     "output_type": "execute_result"
    }
   ],
   "source": [
    "df_vuelos['Points Redeemed'].unique()"
   ]
  },
  {
   "cell_type": "code",
   "execution_count": 46,
   "id": "0043609d",
   "metadata": {},
   "outputs": [
    {
     "data": {
      "text/plain": [
       "np.int64(0)"
      ]
     },
     "execution_count": 46,
     "metadata": {},
     "output_type": "execute_result"
    }
   ],
   "source": [
    "df_vuelos['Points Redeemed'].isnull().sum()"
   ]
  },
  {
   "cell_type": "code",
   "execution_count": 47,
   "id": "d9ea341c",
   "metadata": {},
   "outputs": [
    {
     "data": {
      "text/plain": [
       "count    403760.000000\n",
       "mean         30.838587\n",
       "std         125.758002\n",
       "min           0.000000\n",
       "25%           0.000000\n",
       "50%           0.000000\n",
       "75%           0.000000\n",
       "max         876.000000\n",
       "Name: Points Redeemed, dtype: float64"
      ]
     },
     "execution_count": 47,
     "metadata": {},
     "output_type": "execute_result"
    }
   ],
   "source": [
    "df_vuelos['Points Redeemed'].describe()"
   ]
  },
  {
   "cell_type": "markdown",
   "id": "8e700930",
   "metadata": {},
   "source": [
    "#### Dollar Cost Points Redeemed: El valor en dólares de los puntos que el cliente ha redimido durante el mes.\n",
    "\n",
    "- Índice 9\n",
    "- Datos de tipo integer, valores entre 0 y 71.\n",
    "- No encuentro valores nulos ni errores\n",
    "- Se observa una media de 2.50 dólares por los puntos redimidos por cliente en el mes."
   ]
  },
  {
   "cell_type": "code",
   "execution_count": 52,
   "id": "bd978557",
   "metadata": {},
   "outputs": [
    {
     "data": {
      "text/plain": [
       "array([ 0, 28, 30, 25, 36, 32, 24, 26, 37, 33, 35, 27, 31, 54, 42, 29, 38,\n",
       "       34, 39, 55, 41, 49, 40, 48, 45, 53, 58, 44, 43, 46, 52, 47, 63, 57,\n",
       "       62, 51, 50, 64, 56, 61, 65, 60, 68, 59, 66, 69, 67, 71, 70])"
      ]
     },
     "execution_count": 52,
     "metadata": {},
     "output_type": "execute_result"
    }
   ],
   "source": [
    "df_vuelos['Dollar Cost Points Redeemed'].unique()"
   ]
  },
  {
   "cell_type": "code",
   "execution_count": 53,
   "id": "3848c76b",
   "metadata": {},
   "outputs": [
    {
     "data": {
      "text/plain": [
       "np.int64(0)"
      ]
     },
     "execution_count": 53,
     "metadata": {},
     "output_type": "execute_result"
    }
   ],
   "source": [
    "df_vuelos['Dollar Cost Points Redeemed'].isnull().sum()"
   ]
  },
  {
   "cell_type": "code",
   "execution_count": 54,
   "id": "1ef0914e",
   "metadata": {},
   "outputs": [
    {
     "data": {
      "text/plain": [
       "count    403760.000000\n",
       "mean          2.495973\n",
       "std          10.172033\n",
       "min           0.000000\n",
       "25%           0.000000\n",
       "50%           0.000000\n",
       "75%           0.000000\n",
       "max          71.000000\n",
       "Name: Dollar Cost Points Redeemed, dtype: float64"
      ]
     },
     "execution_count": 54,
     "metadata": {},
     "output_type": "execute_result"
    }
   ],
   "source": [
    "df_vuelos['Dollar Cost Points Redeemed'].describe()"
   ]
  },
  {
   "cell_type": "markdown",
   "id": "d3e7353f",
   "metadata": {},
   "source": [
    "### Customer Loyalty History.csv"
   ]
  },
  {
   "cell_type": "code",
   "execution_count": 55,
   "id": "5cd0de59",
   "metadata": {},
   "outputs": [
    {
     "data": {
      "text/html": [
       "<div>\n",
       "<style scoped>\n",
       "    .dataframe tbody tr th:only-of-type {\n",
       "        vertical-align: middle;\n",
       "    }\n",
       "\n",
       "    .dataframe tbody tr th {\n",
       "        vertical-align: top;\n",
       "    }\n",
       "\n",
       "    .dataframe thead th {\n",
       "        text-align: right;\n",
       "    }\n",
       "</style>\n",
       "<table border=\"1\" class=\"dataframe\">\n",
       "  <thead>\n",
       "    <tr style=\"text-align: right;\">\n",
       "      <th></th>\n",
       "      <th>Country</th>\n",
       "      <th>Province</th>\n",
       "      <th>City</th>\n",
       "      <th>Postal Code</th>\n",
       "      <th>Gender</th>\n",
       "      <th>Education</th>\n",
       "      <th>Salary</th>\n",
       "      <th>Marital Status</th>\n",
       "      <th>Loyalty Card</th>\n",
       "      <th>CLV</th>\n",
       "      <th>Enrollment Type</th>\n",
       "      <th>Enrollment Year</th>\n",
       "      <th>Enrollment Month</th>\n",
       "      <th>Cancellation Year</th>\n",
       "      <th>Cancellation Month</th>\n",
       "    </tr>\n",
       "    <tr>\n",
       "      <th>Loyalty Number</th>\n",
       "      <th></th>\n",
       "      <th></th>\n",
       "      <th></th>\n",
       "      <th></th>\n",
       "      <th></th>\n",
       "      <th></th>\n",
       "      <th></th>\n",
       "      <th></th>\n",
       "      <th></th>\n",
       "      <th></th>\n",
       "      <th></th>\n",
       "      <th></th>\n",
       "      <th></th>\n",
       "      <th></th>\n",
       "      <th></th>\n",
       "    </tr>\n",
       "  </thead>\n",
       "  <tbody>\n",
       "    <tr>\n",
       "      <th>480934</th>\n",
       "      <td>Canada</td>\n",
       "      <td>Ontario</td>\n",
       "      <td>Toronto</td>\n",
       "      <td>M2Z 4K1</td>\n",
       "      <td>Female</td>\n",
       "      <td>Bachelor</td>\n",
       "      <td>83236.0</td>\n",
       "      <td>Married</td>\n",
       "      <td>Star</td>\n",
       "      <td>3839.14</td>\n",
       "      <td>Standard</td>\n",
       "      <td>2016</td>\n",
       "      <td>2</td>\n",
       "      <td>NaN</td>\n",
       "      <td>NaN</td>\n",
       "    </tr>\n",
       "    <tr>\n",
       "      <th>549612</th>\n",
       "      <td>Canada</td>\n",
       "      <td>Alberta</td>\n",
       "      <td>Edmonton</td>\n",
       "      <td>T3G 6Y6</td>\n",
       "      <td>Male</td>\n",
       "      <td>College</td>\n",
       "      <td>NaN</td>\n",
       "      <td>Divorced</td>\n",
       "      <td>Star</td>\n",
       "      <td>3839.61</td>\n",
       "      <td>Standard</td>\n",
       "      <td>2016</td>\n",
       "      <td>3</td>\n",
       "      <td>NaN</td>\n",
       "      <td>NaN</td>\n",
       "    </tr>\n",
       "  </tbody>\n",
       "</table>\n",
       "</div>"
      ],
      "text/plain": [
       "               Country Province      City Postal Code  Gender Education  \\\n",
       "Loyalty Number                                                            \n",
       "480934          Canada  Ontario   Toronto     M2Z 4K1  Female  Bachelor   \n",
       "549612          Canada  Alberta  Edmonton     T3G 6Y6    Male   College   \n",
       "\n",
       "                 Salary Marital Status Loyalty Card      CLV Enrollment Type  \\\n",
       "Loyalty Number                                                                 \n",
       "480934          83236.0        Married         Star  3839.14        Standard   \n",
       "549612              NaN       Divorced         Star  3839.61        Standard   \n",
       "\n",
       "                Enrollment Year  Enrollment Month  Cancellation Year  \\\n",
       "Loyalty Number                                                         \n",
       "480934                     2016                 2                NaN   \n",
       "549612                     2016                 3                NaN   \n",
       "\n",
       "                Cancellation Month  \n",
       "Loyalty Number                      \n",
       "480934                         NaN  \n",
       "549612                         NaN  "
      ]
     },
     "execution_count": 55,
     "metadata": {},
     "output_type": "execute_result"
    }
   ],
   "source": [
    "df_lealtad = pd.read_csv(\"files/Customer Loyalty History.csv\", index_col=0)\n",
    "\n",
    "df_lealtad.head(2)"
   ]
  },
  {
   "cell_type": "code",
   "execution_count": 56,
   "id": "a2e382e6",
   "metadata": {},
   "outputs": [
    {
     "name": "stdout",
     "output_type": "stream",
     "text": [
      "El número de filas que tenemos es 16737, y el número de columnas es 15\n",
      "Nota: La columna Loyalty Number no se cuenta en .shape porque es el índice, pero también forma parte del DataFrame.\n"
     ]
    }
   ],
   "source": [
    "print(f\"El número de filas que tenemos es {df_lealtad.shape[0]}, y el número de columnas es {df_lealtad.shape[1]}\")\n",
    "print(\"Nota: La columna Loyalty Number no se cuenta en .shape porque es el índice, pero también forma parte del DataFrame.\")"
   ]
  },
  {
   "cell_type": "code",
   "execution_count": 57,
   "id": "fb079711",
   "metadata": {},
   "outputs": [],
   "source": [
    "# Convierto el índice de nuevo en una columna para revisar la columna \"Loyalty Number\"\n",
    "df_lealtad = df_lealtad.reset_index()"
   ]
  },
  {
   "cell_type": "code",
   "execution_count": 58,
   "id": "0f0175e6",
   "metadata": {},
   "outputs": [
    {
     "name": "stdout",
     "output_type": "stream",
     "text": [
      "El número de filas que tenemos es 16737, y el número de columnas es 16\n"
     ]
    }
   ],
   "source": [
    "print(f\"El número de filas que tenemos es {df_lealtad.shape[0]}, y el número de columnas es {df_lealtad.shape[1]}\")"
   ]
  },
  {
   "cell_type": "code",
   "execution_count": 59,
   "id": "67512d7d",
   "metadata": {},
   "outputs": [
    {
     "name": "stdout",
     "output_type": "stream",
     "text": [
      "<class 'pandas.core.frame.DataFrame'>\n",
      "RangeIndex: 16737 entries, 0 to 16736\n",
      "Data columns (total 16 columns):\n",
      " #   Column              Non-Null Count  Dtype  \n",
      "---  ------              --------------  -----  \n",
      " 0   Loyalty Number      16737 non-null  int64  \n",
      " 1   Country             16737 non-null  object \n",
      " 2   Province            16737 non-null  object \n",
      " 3   City                16737 non-null  object \n",
      " 4   Postal Code         16737 non-null  object \n",
      " 5   Gender              16737 non-null  object \n",
      " 6   Education           16737 non-null  object \n",
      " 7   Salary              12499 non-null  float64\n",
      " 8   Marital Status      16737 non-null  object \n",
      " 9   Loyalty Card        16737 non-null  object \n",
      " 10  CLV                 16737 non-null  float64\n",
      " 11  Enrollment Type     16737 non-null  object \n",
      " 12  Enrollment Year     16737 non-null  int64  \n",
      " 13  Enrollment Month    16737 non-null  int64  \n",
      " 14  Cancellation Year   2067 non-null   float64\n",
      " 15  Cancellation Month  2067 non-null   float64\n",
      "dtypes: float64(4), int64(3), object(9)\n",
      "memory usage: 2.0+ MB\n"
     ]
    }
   ],
   "source": [
    "df_lealtad.info()"
   ]
  },
  {
   "cell_type": "code",
   "execution_count": 61,
   "id": "ba929b1e",
   "metadata": {},
   "outputs": [
    {
     "data": {
      "text/plain": [
       "Loyalty Number         0.000\n",
       "Country                0.000\n",
       "Province               0.000\n",
       "City                   0.000\n",
       "Postal Code            0.000\n",
       "Gender                 0.000\n",
       "Education              0.000\n",
       "Salary                25.321\n",
       "Marital Status         0.000\n",
       "Loyalty Card           0.000\n",
       "CLV                    0.000\n",
       "Enrollment Type        0.000\n",
       "Enrollment Year        0.000\n",
       "Enrollment Month       0.000\n",
       "Cancellation Year     87.650\n",
       "Cancellation Month    87.650\n",
       "dtype: float64"
      ]
     },
     "execution_count": 61,
     "metadata": {},
     "output_type": "execute_result"
    }
   ],
   "source": [
    "round(df_lealtad.isna().sum()/df_lealtad.shape[0]*100, 3)\n",
    "# encuentro valores NULOS en las columnas \"Salary\", \"Cancellation Year\" y \"Cancellation Month\"\n",
    "# revisaré cada columna individualmente más adelante"
   ]
  },
  {
   "cell_type": "code",
   "execution_count": 63,
   "id": "79fc1e20",
   "metadata": {},
   "outputs": [
    {
     "data": {
      "text/plain": [
       "np.int64(0)"
      ]
     },
     "execution_count": 63,
     "metadata": {},
     "output_type": "execute_result"
    }
   ],
   "source": [
    "df_lealtad.duplicated().sum()\n",
    "# no tengo filas duplicadas"
   ]
  },
  {
   "cell_type": "code",
   "execution_count": 64,
   "id": "497acdfd",
   "metadata": {},
   "outputs": [
    {
     "data": {
      "text/html": [
       "<div>\n",
       "<style scoped>\n",
       "    .dataframe tbody tr th:only-of-type {\n",
       "        vertical-align: middle;\n",
       "    }\n",
       "\n",
       "    .dataframe tbody tr th {\n",
       "        vertical-align: top;\n",
       "    }\n",
       "\n",
       "    .dataframe thead th {\n",
       "        text-align: right;\n",
       "    }\n",
       "</style>\n",
       "<table border=\"1\" class=\"dataframe\">\n",
       "  <thead>\n",
       "    <tr style=\"text-align: right;\">\n",
       "      <th></th>\n",
       "      <th>count</th>\n",
       "      <th>mean</th>\n",
       "      <th>std</th>\n",
       "      <th>min</th>\n",
       "      <th>25%</th>\n",
       "      <th>50%</th>\n",
       "      <th>75%</th>\n",
       "      <th>max</th>\n",
       "    </tr>\n",
       "  </thead>\n",
       "  <tbody>\n",
       "    <tr>\n",
       "      <th>Loyalty Number</th>\n",
       "      <td>16737.0</td>\n",
       "      <td>549735.880445</td>\n",
       "      <td>258912.132453</td>\n",
       "      <td>100018.00</td>\n",
       "      <td>326603.00</td>\n",
       "      <td>550434.00</td>\n",
       "      <td>772019.00</td>\n",
       "      <td>999986.00</td>\n",
       "    </tr>\n",
       "    <tr>\n",
       "      <th>Salary</th>\n",
       "      <td>12499.0</td>\n",
       "      <td>79245.609409</td>\n",
       "      <td>35008.297285</td>\n",
       "      <td>-58486.00</td>\n",
       "      <td>59246.50</td>\n",
       "      <td>73455.00</td>\n",
       "      <td>88517.50</td>\n",
       "      <td>407228.00</td>\n",
       "    </tr>\n",
       "    <tr>\n",
       "      <th>CLV</th>\n",
       "      <td>16737.0</td>\n",
       "      <td>7988.896536</td>\n",
       "      <td>6860.982280</td>\n",
       "      <td>1898.01</td>\n",
       "      <td>3980.84</td>\n",
       "      <td>5780.18</td>\n",
       "      <td>8940.58</td>\n",
       "      <td>83325.38</td>\n",
       "    </tr>\n",
       "    <tr>\n",
       "      <th>Enrollment Year</th>\n",
       "      <td>16737.0</td>\n",
       "      <td>2015.253211</td>\n",
       "      <td>1.979111</td>\n",
       "      <td>2012.00</td>\n",
       "      <td>2014.00</td>\n",
       "      <td>2015.00</td>\n",
       "      <td>2017.00</td>\n",
       "      <td>2018.00</td>\n",
       "    </tr>\n",
       "    <tr>\n",
       "      <th>Enrollment Month</th>\n",
       "      <td>16737.0</td>\n",
       "      <td>6.669116</td>\n",
       "      <td>3.398958</td>\n",
       "      <td>1.00</td>\n",
       "      <td>4.00</td>\n",
       "      <td>7.00</td>\n",
       "      <td>10.00</td>\n",
       "      <td>12.00</td>\n",
       "    </tr>\n",
       "    <tr>\n",
       "      <th>Cancellation Year</th>\n",
       "      <td>2067.0</td>\n",
       "      <td>2016.503145</td>\n",
       "      <td>1.380743</td>\n",
       "      <td>2013.00</td>\n",
       "      <td>2016.00</td>\n",
       "      <td>2017.00</td>\n",
       "      <td>2018.00</td>\n",
       "      <td>2018.00</td>\n",
       "    </tr>\n",
       "    <tr>\n",
       "      <th>Cancellation Month</th>\n",
       "      <td>2067.0</td>\n",
       "      <td>6.962748</td>\n",
       "      <td>3.455297</td>\n",
       "      <td>1.00</td>\n",
       "      <td>4.00</td>\n",
       "      <td>7.00</td>\n",
       "      <td>10.00</td>\n",
       "      <td>12.00</td>\n",
       "    </tr>\n",
       "  </tbody>\n",
       "</table>\n",
       "</div>"
      ],
      "text/plain": [
       "                      count           mean            std        min  \\\n",
       "Loyalty Number      16737.0  549735.880445  258912.132453  100018.00   \n",
       "Salary              12499.0   79245.609409   35008.297285  -58486.00   \n",
       "CLV                 16737.0    7988.896536    6860.982280    1898.01   \n",
       "Enrollment Year     16737.0    2015.253211       1.979111    2012.00   \n",
       "Enrollment Month    16737.0       6.669116       3.398958       1.00   \n",
       "Cancellation Year    2067.0    2016.503145       1.380743    2013.00   \n",
       "Cancellation Month   2067.0       6.962748       3.455297       1.00   \n",
       "\n",
       "                          25%        50%        75%        max  \n",
       "Loyalty Number      326603.00  550434.00  772019.00  999986.00  \n",
       "Salary               59246.50   73455.00   88517.50  407228.00  \n",
       "CLV                   3980.84    5780.18    8940.58   83325.38  \n",
       "Enrollment Year       2014.00    2015.00    2017.00    2018.00  \n",
       "Enrollment Month         4.00       7.00      10.00      12.00  \n",
       "Cancellation Year     2016.00    2017.00    2018.00    2018.00  \n",
       "Cancellation Month       4.00       7.00      10.00      12.00  "
      ]
     },
     "execution_count": 64,
     "metadata": {},
     "output_type": "execute_result"
    }
   ],
   "source": [
    "df_lealtad.describe().T\n",
    "# me llama la atención:\n",
    "# - el MIN de \"Salary\", número negativo\n",
    "# - las columnas \"Cancellation Year\" y \"Cancellation Month\" aparecen como float"
   ]
  },
  {
   "cell_type": "code",
   "execution_count": 65,
   "id": "ccfadb4d",
   "metadata": {},
   "outputs": [
    {
     "data": {
      "text/html": [
       "<div>\n",
       "<style scoped>\n",
       "    .dataframe tbody tr th:only-of-type {\n",
       "        vertical-align: middle;\n",
       "    }\n",
       "\n",
       "    .dataframe tbody tr th {\n",
       "        vertical-align: top;\n",
       "    }\n",
       "\n",
       "    .dataframe thead th {\n",
       "        text-align: right;\n",
       "    }\n",
       "</style>\n",
       "<table border=\"1\" class=\"dataframe\">\n",
       "  <thead>\n",
       "    <tr style=\"text-align: right;\">\n",
       "      <th></th>\n",
       "      <th>count</th>\n",
       "      <th>unique</th>\n",
       "      <th>top</th>\n",
       "      <th>freq</th>\n",
       "    </tr>\n",
       "  </thead>\n",
       "  <tbody>\n",
       "    <tr>\n",
       "      <th>Country</th>\n",
       "      <td>16737</td>\n",
       "      <td>1</td>\n",
       "      <td>Canada</td>\n",
       "      <td>16737</td>\n",
       "    </tr>\n",
       "    <tr>\n",
       "      <th>Province</th>\n",
       "      <td>16737</td>\n",
       "      <td>11</td>\n",
       "      <td>Ontario</td>\n",
       "      <td>5404</td>\n",
       "    </tr>\n",
       "    <tr>\n",
       "      <th>City</th>\n",
       "      <td>16737</td>\n",
       "      <td>29</td>\n",
       "      <td>Toronto</td>\n",
       "      <td>3351</td>\n",
       "    </tr>\n",
       "    <tr>\n",
       "      <th>Postal Code</th>\n",
       "      <td>16737</td>\n",
       "      <td>55</td>\n",
       "      <td>V6E 3D9</td>\n",
       "      <td>911</td>\n",
       "    </tr>\n",
       "    <tr>\n",
       "      <th>Gender</th>\n",
       "      <td>16737</td>\n",
       "      <td>2</td>\n",
       "      <td>Female</td>\n",
       "      <td>8410</td>\n",
       "    </tr>\n",
       "    <tr>\n",
       "      <th>Education</th>\n",
       "      <td>16737</td>\n",
       "      <td>5</td>\n",
       "      <td>Bachelor</td>\n",
       "      <td>10475</td>\n",
       "    </tr>\n",
       "    <tr>\n",
       "      <th>Marital Status</th>\n",
       "      <td>16737</td>\n",
       "      <td>3</td>\n",
       "      <td>Married</td>\n",
       "      <td>9735</td>\n",
       "    </tr>\n",
       "    <tr>\n",
       "      <th>Loyalty Card</th>\n",
       "      <td>16737</td>\n",
       "      <td>3</td>\n",
       "      <td>Star</td>\n",
       "      <td>7637</td>\n",
       "    </tr>\n",
       "    <tr>\n",
       "      <th>Enrollment Type</th>\n",
       "      <td>16737</td>\n",
       "      <td>2</td>\n",
       "      <td>Standard</td>\n",
       "      <td>15766</td>\n",
       "    </tr>\n",
       "  </tbody>\n",
       "</table>\n",
       "</div>"
      ],
      "text/plain": [
       "                 count unique       top   freq\n",
       "Country          16737      1    Canada  16737\n",
       "Province         16737     11   Ontario   5404\n",
       "City             16737     29   Toronto   3351\n",
       "Postal Code      16737     55   V6E 3D9    911\n",
       "Gender           16737      2    Female   8410\n",
       "Education        16737      5  Bachelor  10475\n",
       "Marital Status   16737      3   Married   9735\n",
       "Loyalty Card     16737      3      Star   7637\n",
       "Enrollment Type  16737      2  Standard  15766"
      ]
     },
     "execution_count": 65,
     "metadata": {},
     "output_type": "execute_result"
    }
   ],
   "source": [
    "df_lealtad.describe(include=\"O\").T\n",
    "# me llama la atención:\n",
    "# - Canada es el único valor de la columna \"Country\"\n",
    "# - Female es el valor que más sale, la moda, en la columna \"Gender\" (solo son Female y Male), y es un poco más de la mitad\n",
    "# - Bachelor es la moda en la columna \"Education\", es casi un tercio de los datos\n",
    "# - Married es la moda en \"Marital Status\", es más de la mitad\n",
    "# - Star es la moda en \"Loyalty Card\", está cerca de la mitad de los datos\n",
    "# - Standard es la moda en \"Enrollment Type\", casi la totalidad de los datos"
   ]
  },
  {
   "cell_type": "markdown",
   "id": "2caeff8d",
   "metadata": {},
   "source": [
    "Voy a realizar la exploración y transformación columna por columna.\n",
    "\n",
    "#### Loyalty Number: Identificador único del cliente dentro del programa de lealtad. Este número permite correlacionar la información de este archivo con el archivo de actividad de vuelos.\n",
    "\n",
    "- Índice 0 \n",
    "- Datos de tipo integer, valores entre 100018 y 999986\n",
    "- No encuentro valores nulos ni errores"
   ]
  },
  {
   "cell_type": "code",
   "execution_count": 66,
   "id": "7a836c24",
   "metadata": {},
   "outputs": [
    {
     "data": {
      "text/plain": [
       "array([480934, 549612, 429460, ..., 776187, 906428, 652627],\n",
       "      shape=(16737,))"
      ]
     },
     "execution_count": 66,
     "metadata": {},
     "output_type": "execute_result"
    }
   ],
   "source": [
    "df_lealtad['Loyalty Number'].unique()"
   ]
  },
  {
   "cell_type": "code",
   "execution_count": 67,
   "id": "e5c3c213",
   "metadata": {},
   "outputs": [
    {
     "data": {
      "text/plain": [
       "np.int64(0)"
      ]
     },
     "execution_count": 67,
     "metadata": {},
     "output_type": "execute_result"
    }
   ],
   "source": [
    "df_lealtad['Loyalty Number'].isnull().sum()"
   ]
  },
  {
   "cell_type": "code",
   "execution_count": 68,
   "id": "294859ee",
   "metadata": {},
   "outputs": [
    {
     "data": {
      "text/plain": [
       "count     16737.000000\n",
       "mean     549735.880445\n",
       "std      258912.132453\n",
       "min      100018.000000\n",
       "25%      326603.000000\n",
       "50%      550434.000000\n",
       "75%      772019.000000\n",
       "max      999986.000000\n",
       "Name: Loyalty Number, dtype: float64"
      ]
     },
     "execution_count": 68,
     "metadata": {},
     "output_type": "execute_result"
    }
   ],
   "source": [
    "df_lealtad['Loyalty Number'].describe()"
   ]
  },
  {
   "cell_type": "markdown",
   "id": "7cd26356",
   "metadata": {},
   "source": [
    "#### Country: País de residencia del cliente.\n",
    "\n",
    "- Índice 1\n",
    "- Datos de tipo objeto, valor \"Canada\" en todos los datos\n",
    "- No encuentro valores nulos ni errores\n",
    "- Valorable su eliminación teniéndo en cuenta que no más información a parte de que todos los clientes son de Canada."
   ]
  },
  {
   "cell_type": "code",
   "execution_count": 69,
   "id": "af7a3b0c",
   "metadata": {},
   "outputs": [
    {
     "data": {
      "text/plain": [
       "array(['Canada'], dtype=object)"
      ]
     },
     "execution_count": 69,
     "metadata": {},
     "output_type": "execute_result"
    }
   ],
   "source": [
    "df_lealtad['Country'].unique()"
   ]
  },
  {
   "cell_type": "markdown",
   "id": "3aac1a68",
   "metadata": {},
   "source": [
    "#### Province: Provincia o estado de residencia del cliente (aplicable a países con divisiones provinciales o estatales, como Canadá).\n",
    "\n",
    "- Índice 2\n",
    "- Datos de tipo objeto, 11 valores ('Ontario', 'Alberta', 'British Columbia', 'Quebec', 'Yukon', 'New Brunswick', 'Manitoba', 'Nova Scotia', 'Saskatchewan', 'Newfoundland', 'Prince Edward Island'), siendo 'Ontario' la moda\n",
    "- No encuentro valores nulos ni errores"
   ]
  },
  {
   "cell_type": "code",
   "execution_count": 70,
   "id": "7d13951b",
   "metadata": {},
   "outputs": [
    {
     "data": {
      "text/plain": [
       "array(['Ontario', 'Alberta', 'British Columbia', 'Quebec', 'Yukon',\n",
       "       'New Brunswick', 'Manitoba', 'Nova Scotia', 'Saskatchewan',\n",
       "       'Newfoundland', 'Prince Edward Island'], dtype=object)"
      ]
     },
     "execution_count": 70,
     "metadata": {},
     "output_type": "execute_result"
    }
   ],
   "source": [
    "df_lealtad['Province'].unique()"
   ]
  },
  {
   "cell_type": "code",
   "execution_count": 71,
   "id": "585afc92",
   "metadata": {},
   "outputs": [
    {
     "data": {
      "text/plain": [
       "count       16737\n",
       "unique         11\n",
       "top       Ontario\n",
       "freq         5404\n",
       "Name: Province, dtype: object"
      ]
     },
     "execution_count": 71,
     "metadata": {},
     "output_type": "execute_result"
    }
   ],
   "source": [
    "df_lealtad['Province'].describe()"
   ]
  },
  {
   "cell_type": "markdown",
   "id": "cad543cc",
   "metadata": {},
   "source": [
    "#### City: Ciudad de residencia del cliente.\n",
    "\n",
    "- Índice 3\n",
    "- Datos de tipo objeto, 29 valores ('Toronto', 'Edmonton', 'Vancouver', 'Hull', 'Whitehorse', 'Trenton', 'Montreal', 'Dawson Creek', 'Quebec City', 'Fredericton', 'Ottawa', 'Tremblant', 'Calgary', 'Thunder Bay', 'Whistler', 'Peace River', 'Winnipeg', 'Sudbury', 'West Vancouver', 'Halifax', 'London', 'Regina', 'Kelowna', \"St. John's\", 'Victoria', 'Kingston', 'Banff', 'Moncton', 'Charlottetown'), siendo 'Toronto' la moda\n",
    "- No encuentro valores nulos ni errores"
   ]
  },
  {
   "cell_type": "code",
   "execution_count": 72,
   "id": "5c9cf615",
   "metadata": {},
   "outputs": [
    {
     "data": {
      "text/plain": [
       "array(['Toronto', 'Edmonton', 'Vancouver', 'Hull', 'Whitehorse',\n",
       "       'Trenton', 'Montreal', 'Dawson Creek', 'Quebec City',\n",
       "       'Fredericton', 'Ottawa', 'Tremblant', 'Calgary', 'Thunder Bay',\n",
       "       'Whistler', 'Peace River', 'Winnipeg', 'Sudbury', 'West Vancouver',\n",
       "       'Halifax', 'London', 'Regina', 'Kelowna', \"St. John's\", 'Victoria',\n",
       "       'Kingston', 'Banff', 'Moncton', 'Charlottetown'], dtype=object)"
      ]
     },
     "execution_count": 72,
     "metadata": {},
     "output_type": "execute_result"
    }
   ],
   "source": [
    "df_lealtad['City'].unique()"
   ]
  },
  {
   "cell_type": "code",
   "execution_count": 73,
   "id": "cfdba9f5",
   "metadata": {},
   "outputs": [
    {
     "data": {
      "text/plain": [
       "count       16737\n",
       "unique         29\n",
       "top       Toronto\n",
       "freq         3351\n",
       "Name: City, dtype: object"
      ]
     },
     "execution_count": 73,
     "metadata": {},
     "output_type": "execute_result"
    }
   ],
   "source": [
    "df_lealtad['City'].describe()"
   ]
  },
  {
   "cell_type": "markdown",
   "id": "d3495ffd",
   "metadata": {},
   "source": [
    "#### Postal Code: Código postal del cliente.\n",
    "\n",
    "- Índice 4\n",
    "- Datos de tipo objeto, 55 valores ('M2Z 4K1', 'T3G 6Y6', 'V6E 3D9', 'P1W 1K4', 'J8Y 3Z5', 'Y2K 6R0', 'P5S 6R4', 'K8V 4B2', 'H2Y 2W2', 'M8Y 4K8', 'U5I 4F1', 'G1B 3L5', 'H4G 3T4', 'M2M 7K8', 'M2M 6J7', 'E3B 2H2', 'M1R 4K3', 'T9G 1W3', 'H2Y 4R4', 'V5R 1W3', 'P1L 8X8', 'K1F 2R2', 'H5Y 2S9', 'V1E 4R6', 'H2T 2J6', 'T3E 2V9', 'H2T 9K8', 'K8T 5M5', 'V6T 1Y8', 'P2T 6G3', 'T9O 2W2', 'V6E 3Z3', 'R6Y 4T5', 'M5V 1G5', 'V6V 8Z3', 'B3J 9S2', 'M5B 3E4', 'R2C 0M5', 'S6J 3G0', 'M2P 4F6', 'P1J 8T7', 'V09 2E9', 'A1C 6H9', 'V10 6T5', 'B3C 2M8', 'M9K 2P4', 'T4V 1D4', 'R3R 3T4', 'S1J 3C5', 'E1A 2A7', 'K1G 4Z0', 'H3T 8L4', 'C1A 6E8', 'H3J 5I6', 'M3R 4K8'), siendo 'V6E 3D9' la moda\n",
    "- No encuentro valores nulos ni errores"
   ]
  },
  {
   "cell_type": "code",
   "execution_count": 74,
   "id": "46f8f4b9",
   "metadata": {},
   "outputs": [
    {
     "data": {
      "text/plain": [
       "array(['M2Z 4K1', 'T3G 6Y6', 'V6E 3D9', 'P1W 1K4', 'J8Y 3Z5', 'Y2K 6R0',\n",
       "       'P5S 6R4', 'K8V 4B2', 'H2Y 2W2', 'M8Y 4K8', 'U5I 4F1', 'G1B 3L5',\n",
       "       'H4G 3T4', 'M2M 7K8', 'M2M 6J7', 'E3B 2H2', 'M1R 4K3', 'T9G 1W3',\n",
       "       'H2Y 4R4', 'V5R 1W3', 'P1L 8X8', 'K1F 2R2', 'H5Y 2S9', 'V1E 4R6',\n",
       "       'H2T 2J6', 'T3E 2V9', 'H2T 9K8', 'K8T 5M5', 'V6T 1Y8', 'P2T 6G3',\n",
       "       'T9O 2W2', 'V6E 3Z3', 'R6Y 4T5', 'M5V 1G5', 'V6V 8Z3', 'B3J 9S2',\n",
       "       'M5B 3E4', 'R2C 0M5', 'S6J 3G0', 'M2P 4F6', 'P1J 8T7', 'V09 2E9',\n",
       "       'A1C 6H9', 'V10 6T5', 'B3C 2M8', 'M9K 2P4', 'T4V 1D4', 'R3R 3T4',\n",
       "       'S1J 3C5', 'E1A 2A7', 'K1G 4Z0', 'H3T 8L4', 'C1A 6E8', 'H3J 5I6',\n",
       "       'M3R 4K8'], dtype=object)"
      ]
     },
     "execution_count": 74,
     "metadata": {},
     "output_type": "execute_result"
    }
   ],
   "source": [
    "df_lealtad['Postal Code'].unique()"
   ]
  },
  {
   "cell_type": "code",
   "execution_count": 75,
   "id": "3f3a9cea",
   "metadata": {},
   "outputs": [
    {
     "data": {
      "text/plain": [
       "count       16737\n",
       "unique         55\n",
       "top       V6E 3D9\n",
       "freq          911\n",
       "Name: Postal Code, dtype: object"
      ]
     },
     "execution_count": 75,
     "metadata": {},
     "output_type": "execute_result"
    }
   ],
   "source": [
    "df_lealtad['Postal Code'].describe()"
   ]
  },
  {
   "cell_type": "markdown",
   "id": "9d21b34b",
   "metadata": {},
   "source": [
    "#### Gender: Género del cliente (ej. Male para masculino y Female para femenino).\n",
    "\n",
    "- Índice 5\n",
    "- Datos de tipo objeto, 2 valores ('Female' y 'Male'), siendo 'Female' la moda y un poco más de la mitad de los datos\n",
    "- No encuentro valores nulos ni errores"
   ]
  },
  {
   "cell_type": "code",
   "execution_count": 76,
   "id": "fabef98b",
   "metadata": {},
   "outputs": [
    {
     "data": {
      "text/plain": [
       "array(['Female', 'Male'], dtype=object)"
      ]
     },
     "execution_count": 76,
     "metadata": {},
     "output_type": "execute_result"
    }
   ],
   "source": [
    "df_lealtad['Gender'].unique()"
   ]
  },
  {
   "cell_type": "code",
   "execution_count": 77,
   "id": "6bc10250",
   "metadata": {},
   "outputs": [
    {
     "data": {
      "text/plain": [
       "count      16737\n",
       "unique         2\n",
       "top       Female\n",
       "freq        8410\n",
       "Name: Gender, dtype: object"
      ]
     },
     "execution_count": 77,
     "metadata": {},
     "output_type": "execute_result"
    }
   ],
   "source": [
    "df_lealtad['Gender'].describe()"
   ]
  },
  {
   "cell_type": "markdown",
   "id": "0fffc125",
   "metadata": {},
   "source": [
    "#### Education: Nivel educativo alcanzado por el cliente (ej. Bachelor para licenciatura, College para estudios universitarios o técnicos, etc.).\n",
    "\n",
    "- Índice 6\n",
    "- Datos de tipo objeto, 5 valores ('Bachelor', 'College', 'Master', 'High School or Below', 'Doctor'), siendo 'Bachelor' la moda y casi un tercio de los datos\n",
    "- El orden educativo de estos niveles de estudios de menor a mayor es 'High School or Below', 'College', 'Bachelor', 'Master', 'Doctor'.\n",
    "- No encuentro valores nulos ni errores"
   ]
  },
  {
   "cell_type": "code",
   "execution_count": 78,
   "id": "d91a0e0f",
   "metadata": {},
   "outputs": [
    {
     "data": {
      "text/plain": [
       "array(['Bachelor', 'College', 'Master', 'High School or Below', 'Doctor'],\n",
       "      dtype=object)"
      ]
     },
     "execution_count": 78,
     "metadata": {},
     "output_type": "execute_result"
    }
   ],
   "source": [
    "df_lealtad['Education'].unique()"
   ]
  },
  {
   "cell_type": "code",
   "execution_count": 79,
   "id": "a91b9939",
   "metadata": {},
   "outputs": [
    {
     "data": {
      "text/plain": [
       "count        16737\n",
       "unique           5\n",
       "top       Bachelor\n",
       "freq         10475\n",
       "Name: Education, dtype: object"
      ]
     },
     "execution_count": 79,
     "metadata": {},
     "output_type": "execute_result"
    }
   ],
   "source": [
    "df_lealtad['Education'].describe()"
   ]
  },
  {
   "cell_type": "markdown",
   "id": "29cf756d",
   "metadata": {},
   "source": [
    "#### Salary: Ingreso anual estimado del cliente.\n",
    "\n",
    "- Índice 7\n",
    "- Datos de tipo float\n",
    "- Encuentro errores (alguno sale en negativo)\n",
    "- Encuentro 4238 nulos, y comparando con la columna 'Education' veo que son todas las filas que tienen 'College' en 'Education'"
   ]
  },
  {
   "cell_type": "code",
   "execution_count": 91,
   "id": "ea78b4a6",
   "metadata": {},
   "outputs": [
    {
     "data": {
      "text/plain": [
       "array([ 83236.,     nan, 103495., ...,  76178.,  91970., -57297.],\n",
       "      shape=(5891,))"
      ]
     },
     "execution_count": 91,
     "metadata": {},
     "output_type": "execute_result"
    }
   ],
   "source": [
    "df_lealtad['Salary'].unique()"
   ]
  },
  {
   "cell_type": "code",
   "execution_count": null,
   "id": "1f023739",
   "metadata": {},
   "outputs": [],
   "source": [
    "# empiezo por eliminar el negativo de los datos que salgan con '-':\n",
    "df_lealtad['Salary'] = df_lealtad['Salary'].astype(str) \n",
    "df_lealtad['Salary'] = df_lealtad['Salary'].str.replace('-','') \n",
    "df_lealtad['Salary'] = df_lealtad['Salary'].astype(float)"
   ]
  },
  {
   "cell_type": "code",
   "execution_count": 96,
   "id": "5e645678",
   "metadata": {},
   "outputs": [
    {
     "data": {
      "text/plain": [
       "array([ 83236.,     nan, 103495., ...,  76178.,  91970.,  57297.],\n",
       "      shape=(5891,))"
      ]
     },
     "execution_count": 96,
     "metadata": {},
     "output_type": "execute_result"
    }
   ],
   "source": [
    "df_lealtad['Salary'].unique()"
   ]
  },
  {
   "cell_type": "code",
   "execution_count": 97,
   "id": "318b0a13",
   "metadata": {},
   "outputs": [
    {
     "data": {
      "text/plain": [
       "np.int64(4238)"
      ]
     },
     "execution_count": 97,
     "metadata": {},
     "output_type": "execute_result"
    }
   ],
   "source": [
    "df_lealtad['Salary'].isnull().sum()"
   ]
  },
  {
   "cell_type": "code",
   "execution_count": 98,
   "id": "6261c489",
   "metadata": {},
   "outputs": [
    {
     "data": {
      "text/plain": [
       "Education\n",
       "College    4238\n",
       "Name: count, dtype: int64"
      ]
     },
     "execution_count": 98,
     "metadata": {},
     "output_type": "execute_result"
    }
   ],
   "source": [
    "df_lealtad[df_lealtad['Salary'].isna()]['Education'].value_counts()\n",
    "# aqui veo que los nulos en 'Salary' aparecen conectados con 'College' en la columna 'Education'"
   ]
  },
  {
   "cell_type": "code",
   "execution_count": 99,
   "id": "610d541a",
   "metadata": {},
   "outputs": [
    {
     "data": {
      "text/plain": [
       "4238"
      ]
     },
     "execution_count": 99,
     "metadata": {},
     "output_type": "execute_result"
    }
   ],
   "source": [
    "df_lealtad[df_lealtad['Education'] == 'College'].shape[0]\n",
    "# esto son todas las filas con 'College': ==> todos los nulos están en filas con 'College'"
   ]
  },
  {
   "cell_type": "code",
   "execution_count": 100,
   "id": "76dd7ed9",
   "metadata": {},
   "outputs": [
    {
     "data": {
      "text/plain": [
       "Education\n",
       "Bachelor                 72577.254415\n",
       "College                           NaN\n",
       "Doctor                  178608.897820\n",
       "High School or Below     61199.161125\n",
       "Master                  103757.848425\n",
       "Name: Salary, dtype: float64"
      ]
     },
     "execution_count": 100,
     "metadata": {},
     "output_type": "execute_result"
    }
   ],
   "source": [
    "df_lealtad.groupby('Education')['Salary'].mean()\n",
    "# miro las medias de los salarios según la 'Education'"
   ]
  },
  {
   "cell_type": "code",
   "execution_count": null,
   "id": "0ee14468",
   "metadata": {},
   "outputs": [],
   "source": [
    "# El orden educativo de estos niveles de estudios de menor a mayor es 'High School or Below', 'College', 'Bachelor', 'Master' y 'Doctor'.\n",
    "# 'High School or Below' tiene una media = 61199.161125 de salario\n",
    "# 'Bachelor' tiene una media = 72577.254415 de salario\n",
    "# sumando estas medias y dividiéndolas entre 2 me da 66888.20777 de salario. Redondeo a 66888.21\n",
    "# Le doy este valor a los NaN de'College'\n",
    "df_lealtad.loc[df_lealtad['Education'] == 'College', 'Salary'] = 66888.21"
   ]
  },
  {
   "cell_type": "code",
   "execution_count": 102,
   "id": "02690c67",
   "metadata": {},
   "outputs": [
    {
     "data": {
      "text/plain": [
       "np.int64(0)"
      ]
     },
     "execution_count": 102,
     "metadata": {},
     "output_type": "execute_result"
    }
   ],
   "source": [
    "df_lealtad['Salary'].isnull().sum()"
   ]
  },
  {
   "cell_type": "code",
   "execution_count": 103,
   "id": "1f40471a",
   "metadata": {},
   "outputs": [
    {
     "data": {
      "text/plain": [
       "Education\n",
       "Bachelor                 72577.254415\n",
       "College                  66888.210000\n",
       "Doctor                  178608.897820\n",
       "High School or Below     61199.161125\n",
       "Master                  103757.848425\n",
       "Name: Salary, dtype: float64"
      ]
     },
     "execution_count": 103,
     "metadata": {},
     "output_type": "execute_result"
    }
   ],
   "source": [
    "df_lealtad.groupby('Education')['Salary'].mean()"
   ]
  },
  {
   "cell_type": "markdown",
   "id": "6be037d5",
   "metadata": {},
   "source": [
    "#### Marital Status: Estado civil del cliente (ej. Single para soltero, Married para casado, Divorced para divorciado, etc.).\n",
    "\n",
    "- Índice 8\n",
    "- Datos de tipo object, 3 valores ('Married', 'Divorced', 'Single'), siendo 'Married' la moda y más de la mitad de los datos\n",
    "- No encuentro valores nulos ni errores "
   ]
  },
  {
   "cell_type": "code",
   "execution_count": 104,
   "id": "85f6f52b",
   "metadata": {},
   "outputs": [
    {
     "data": {
      "text/plain": [
       "array(['Married', 'Divorced', 'Single'], dtype=object)"
      ]
     },
     "execution_count": 104,
     "metadata": {},
     "output_type": "execute_result"
    }
   ],
   "source": [
    "df_lealtad['Marital Status'].unique()"
   ]
  },
  {
   "cell_type": "code",
   "execution_count": 105,
   "id": "589bc2ca",
   "metadata": {},
   "outputs": [
    {
     "data": {
      "text/plain": [
       "count       16737\n",
       "unique          3\n",
       "top       Married\n",
       "freq         9735\n",
       "Name: Marital Status, dtype: object"
      ]
     },
     "execution_count": 105,
     "metadata": {},
     "output_type": "execute_result"
    }
   ],
   "source": [
    "df_lealtad['Marital Status'].describe()"
   ]
  },
  {
   "cell_type": "markdown",
   "id": "d6232bae",
   "metadata": {},
   "source": [
    "#### Loyalty Card: Tipo de tarjeta de lealtad que posee el cliente. Esto podría indicar distintos niveles o categorías dentro del programa de lealtad.\n",
    "\n",
    "- Índice 9\n",
    "- Datos de tipo object, 3 valores ('Star', 'Aurora', 'Nova'), siendo 'Star' la moda y casi la mitad de los datos\n",
    "- No encuentro valores nulos ni errores "
   ]
  },
  {
   "cell_type": "code",
   "execution_count": 106,
   "id": "f3ce5221",
   "metadata": {},
   "outputs": [
    {
     "data": {
      "text/plain": [
       "array(['Star', 'Aurora', 'Nova'], dtype=object)"
      ]
     },
     "execution_count": 106,
     "metadata": {},
     "output_type": "execute_result"
    }
   ],
   "source": [
    "df_lealtad['Loyalty Card'].unique()"
   ]
  },
  {
   "cell_type": "code",
   "execution_count": 107,
   "id": "7776d9b7",
   "metadata": {},
   "outputs": [
    {
     "data": {
      "text/plain": [
       "count     16737\n",
       "unique        3\n",
       "top        Star\n",
       "freq       7637\n",
       "Name: Loyalty Card, dtype: object"
      ]
     },
     "execution_count": 107,
     "metadata": {},
     "output_type": "execute_result"
    }
   ],
   "source": [
    "df_lealtad['Loyalty Card'].describe()"
   ]
  },
  {
   "cell_type": "markdown",
   "id": "5d510f68",
   "metadata": {},
   "source": [
    "#### CLV (Customer Lifetime Value): Valor total estimado que el cliente aporta a la empresa durante toda la relación que mantiene con ella.\n",
    "\n",
    "- Índice 10\n",
    "- Datos de tipo float, múltiples valores entre 1898.01 y 83325.38, y con una media de 7988.90 de valor estimado que el cliente aporta a la empresa\n",
    "- No encuentro valores nulos ni errores "
   ]
  },
  {
   "cell_type": "code",
   "execution_count": 108,
   "id": "c2af789b",
   "metadata": {},
   "outputs": [
    {
     "data": {
      "text/plain": [
       "array([ 3839.14,  3839.61,  3839.75, ..., 44771.3 , 50568.26, 61134.68],\n",
       "      shape=(7984,))"
      ]
     },
     "execution_count": 108,
     "metadata": {},
     "output_type": "execute_result"
    }
   ],
   "source": [
    "df_lealtad['CLV'].unique()"
   ]
  },
  {
   "cell_type": "code",
   "execution_count": 109,
   "id": "3a276d75",
   "metadata": {},
   "outputs": [
    {
     "data": {
      "text/plain": [
       "np.int64(0)"
      ]
     },
     "execution_count": 109,
     "metadata": {},
     "output_type": "execute_result"
    }
   ],
   "source": [
    "df_lealtad['CLV'].isnull().sum()"
   ]
  },
  {
   "cell_type": "code",
   "execution_count": 110,
   "id": "70a20673",
   "metadata": {},
   "outputs": [
    {
     "data": {
      "text/plain": [
       "count    16737.000000\n",
       "mean      7988.896536\n",
       "std       6860.982280\n",
       "min       1898.010000\n",
       "25%       3980.840000\n",
       "50%       5780.180000\n",
       "75%       8940.580000\n",
       "max      83325.380000\n",
       "Name: CLV, dtype: float64"
      ]
     },
     "execution_count": 110,
     "metadata": {},
     "output_type": "execute_result"
    }
   ],
   "source": [
    "df_lealtad['CLV'].describe()"
   ]
  },
  {
   "cell_type": "markdown",
   "id": "19f765c7",
   "metadata": {},
   "source": [
    "#### Enrollment Type: Tipo de inscripción del cliente en el programa de lealtad (ej. Standard).\n",
    "\n",
    "- Índice 11\n",
    "- Datos de tipo object, 2 valores ('Standard', '2018 Promotion'), siendo Standard la moda y casi la totalidad de los datos\n",
    "- No encuentro valores nulos ni errores "
   ]
  },
  {
   "cell_type": "code",
   "execution_count": 111,
   "id": "96ed54d7",
   "metadata": {},
   "outputs": [
    {
     "data": {
      "text/plain": [
       "array(['Standard', '2018 Promotion'], dtype=object)"
      ]
     },
     "execution_count": 111,
     "metadata": {},
     "output_type": "execute_result"
    }
   ],
   "source": [
    "df_lealtad['Enrollment Type'].unique()"
   ]
  },
  {
   "cell_type": "code",
   "execution_count": 112,
   "id": "aad99818",
   "metadata": {},
   "outputs": [
    {
     "data": {
      "text/plain": [
       "count        16737\n",
       "unique           2\n",
       "top       Standard\n",
       "freq         15766\n",
       "Name: Enrollment Type, dtype: object"
      ]
     },
     "execution_count": 112,
     "metadata": {},
     "output_type": "execute_result"
    }
   ],
   "source": [
    "df_lealtad['Enrollment Type'].describe()"
   ]
  },
  {
   "cell_type": "markdown",
   "id": "a05d33d5",
   "metadata": {},
   "source": [
    "#### Enrollment Year: Año en que el cliente se inscribió en el programa de lealtad.\n",
    "\n",
    "- Índice 12\n",
    "- Datos de tipo integer, 7 valores (2012, 2013, 2014, 2015, 2016, 2017, 2018), siendo 2018 la moda\n",
    "- No encuentro valores nulos ni errores "
   ]
  },
  {
   "cell_type": "code",
   "execution_count": 113,
   "id": "ec64b976",
   "metadata": {},
   "outputs": [
    {
     "data": {
      "text/plain": [
       "array([2016, 2014, 2013, 2012, 2015, 2018, 2017])"
      ]
     },
     "execution_count": 113,
     "metadata": {},
     "output_type": "execute_result"
    }
   ],
   "source": [
    "df_lealtad['Enrollment Year'].unique()"
   ]
  },
  {
   "cell_type": "code",
   "execution_count": 114,
   "id": "cc499032",
   "metadata": {},
   "outputs": [
    {
     "data": {
      "text/plain": [
       "Enrollment Year\n",
       "2018    3010\n",
       "2017    2487\n",
       "2016    2456\n",
       "2013    2397\n",
       "2014    2370\n",
       "2015    2331\n",
       "2012    1686\n",
       "Name: count, dtype: int64"
      ]
     },
     "execution_count": 114,
     "metadata": {},
     "output_type": "execute_result"
    }
   ],
   "source": [
    "df_lealtad['Enrollment Year'].value_counts()"
   ]
  },
  {
   "cell_type": "markdown",
   "id": "16bf7f00",
   "metadata": {},
   "source": [
    "#### Enrollment Month: Mes en que el cliente se inscribió en el programa de lealtad.\n",
    "\n",
    "- Índice 13\n",
    "- Datos de tipo integer, 12 valores (1, 2, 3, 4, 5, 6, 7, 8, 9, 10, 11, 12), siendo 5 (mayo) la moda\n",
    "- No encuentro valores nulos ni errores "
   ]
  },
  {
   "cell_type": "code",
   "execution_count": 115,
   "id": "2086d7e8",
   "metadata": {},
   "outputs": [
    {
     "data": {
      "text/plain": [
       "array([ 2,  3,  7, 10,  5,  6, 12,  1, 11,  8,  4,  9])"
      ]
     },
     "execution_count": 115,
     "metadata": {},
     "output_type": "execute_result"
    }
   ],
   "source": [
    "df_lealtad['Enrollment Month'].unique()"
   ]
  },
  {
   "cell_type": "code",
   "execution_count": 116,
   "id": "9f0dda59",
   "metadata": {},
   "outputs": [
    {
     "data": {
      "text/plain": [
       "Enrollment Month\n",
       "5     1503\n",
       "12    1480\n",
       "7     1473\n",
       "11    1446\n",
       "10    1444\n",
       "8     1430\n",
       "6     1412\n",
       "9     1391\n",
       "4     1388\n",
       "3     1358\n",
       "2     1220\n",
       "1     1192\n",
       "Name: count, dtype: int64"
      ]
     },
     "execution_count": 116,
     "metadata": {},
     "output_type": "execute_result"
    }
   ],
   "source": [
    "df_lealtad['Enrollment Month'].value_counts()"
   ]
  },
  {
   "cell_type": "markdown",
   "id": "121c6753",
   "metadata": {},
   "source": [
    "#### Cancellation Year: Año en que el cliente canceló su membresía en el programa de lealtad, si aplica.\n",
    "\n",
    "- Índice 14\n",
    "- Datos de tipo float, cuando deberían ser integer (son 'año'). 6 valores (2013, 2014, 2015, 2016, 2017, 2018)\n",
    "- Encuentro '.' al final, lo elimino\n",
    "- Encuentro nulos"
   ]
  },
  {
   "cell_type": "code",
   "execution_count": 117,
   "id": "8b66d864",
   "metadata": {},
   "outputs": [
    {
     "data": {
      "text/plain": [
       "array([  nan, 2018., 2015., 2017., 2014., 2016., 2013.])"
      ]
     },
     "execution_count": 117,
     "metadata": {},
     "output_type": "execute_result"
    }
   ],
   "source": [
    "df_lealtad['Cancellation Year'].unique()"
   ]
  },
  {
   "cell_type": "code",
   "execution_count": null,
   "id": "27f4689c",
   "metadata": {},
   "outputs": [],
   "source": [
    "# valorar si quieres hacer esto:"
   ]
  },
  {
   "cell_type": "code",
   "execution_count": 118,
   "id": "4039d26c",
   "metadata": {},
   "outputs": [
    {
     "name": "stderr",
     "output_type": "stream",
     "text": [
      "<>:3: SyntaxWarning: invalid escape sequence '\\.'\n",
      "<>:3: SyntaxWarning: invalid escape sequence '\\.'\n",
      "C:\\Users\\krigu\\AppData\\Local\\Temp\\ipykernel_25816\\1961245157.py:3: SyntaxWarning: invalid escape sequence '\\.'\n",
      "  df_lealtad['Cancellation Year'] = df_lealtad['Cancellation Year'].str.replace('\\.0$', '', regex=True)\n"
     ]
    }
   ],
   "source": [
    "# empiezo por eliminar el negativo de los datos que salgan con '.':\n",
    "df_lealtad['Cancellation Year'] = df_lealtad['Cancellation Year'].astype(str)\n",
    "df_lealtad['Cancellation Year'] = df_lealtad['Cancellation Year'].str.replace('\\.0$', '', regex=True)\n",
    "df_lealtad['Cancellation Year'] = df_lealtad['Cancellation Year'].replace('nan', pd.NA)\n",
    "df_lealtad['Cancellation Year'] = df_lealtad['Cancellation Year'].astype('Int64') "
   ]
  },
  {
   "cell_type": "code",
   "execution_count": 119,
   "id": "01c6e82d",
   "metadata": {},
   "outputs": [
    {
     "data": {
      "text/plain": [
       "<IntegerArray>\n",
       "[<NA>, 2018, 2015, 2017, 2014, 2016, 2013]\n",
       "Length: 7, dtype: Int64"
      ]
     },
     "execution_count": 119,
     "metadata": {},
     "output_type": "execute_result"
    }
   ],
   "source": [
    "df_lealtad['Cancellation Year'].unique()"
   ]
  }
 ],
 "metadata": {
  "kernelspec": {
   "display_name": "Promo_56",
   "language": "python",
   "name": "python3"
  },
  "language_info": {
   "codemirror_mode": {
    "name": "ipython",
    "version": 3
   },
   "file_extension": ".py",
   "mimetype": "text/x-python",
   "name": "python",
   "nbconvert_exporter": "python",
   "pygments_lexer": "ipython3",
   "version": "3.12.11"
  }
 },
 "nbformat": 4,
 "nbformat_minor": 5
}
