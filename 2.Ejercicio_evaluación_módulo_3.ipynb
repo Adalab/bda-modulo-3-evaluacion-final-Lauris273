{
 "cells": [
  {
   "cell_type": "markdown",
   "id": "ec5371d3",
   "metadata": {},
   "source": [
    "# Evaluación Módulo 3\n",
    "\n",
    "### Exploración, limpieza y visualización de los datos de clientes de una aerolínea\n",
    "\n",
    "\n",
    "## 3. LIMPIEZA DE DATOS DEL DATAFRAME RESULTANTE\n",
    "\n",
    "Una vez revisados y unidos los 2 archivos iniciales (\"Customer Flight Activity.csv\" y \"Customer Loyalty History.csv\"), en este documento se revisará el archivo \"Customer Complete Information.csv\", donde podemos enconetrar toda la información sobre vuelos e historial de lealtad con la compañía de los clientes canadienses "
   ]
  },
  {
   "cell_type": "code",
   "execution_count": 1,
   "id": "6dda75b4",
   "metadata": {},
   "outputs": [],
   "source": [
    "# importo las librerías que necesitaré\n",
    "\n",
    "# Tratamiento de datos\n",
    "# -----------------------------------------------------------------------\n",
    "import pandas as pd\n",
    "import numpy as np\n",
    "\n",
    "# Visualización de datos en gráficas\n",
    "# -----------------------------------------------------------------------\n",
    "import matplotlib.pyplot as plt\n",
    "import seaborn as sns\n",
    "\n",
    "# Evaluar linealidad de las relaciones entre las variables\n",
    "# y la distribución de las variables\n",
    "# ------------------------------------------------------------------------------\n",
    "#import scipy.stats as stats\n",
    "import scipy.stats as stats\n",
    "from scipy.stats import shapiro, poisson, chisquare, expon, kstest\n",
    "\n",
    "\n",
    "# Configuración\n",
    "# -----------------------------------------------------------------------\n",
    "pd.set_option('display.max_columns', None) # para poder visualizar todas las columnas de los DataFrames"
   ]
  },
  {
   "cell_type": "code",
   "execution_count": 2,
   "id": "9a0a4f01",
   "metadata": {},
   "outputs": [
    {
     "data": {
      "text/html": [
       "<div>\n",
       "<style scoped>\n",
       "    .dataframe tbody tr th:only-of-type {\n",
       "        vertical-align: middle;\n",
       "    }\n",
       "\n",
       "    .dataframe tbody tr th {\n",
       "        vertical-align: top;\n",
       "    }\n",
       "\n",
       "    .dataframe thead th {\n",
       "        text-align: right;\n",
       "    }\n",
       "</style>\n",
       "<table border=\"1\" class=\"dataframe\">\n",
       "  <thead>\n",
       "    <tr style=\"text-align: right;\">\n",
       "      <th></th>\n",
       "      <th>Loyalty Number</th>\n",
       "      <th>Year</th>\n",
       "      <th>Month</th>\n",
       "      <th>Flights Booked</th>\n",
       "      <th>Flights with Companions</th>\n",
       "      <th>Total Flights</th>\n",
       "      <th>Distance</th>\n",
       "      <th>Points Accumulated</th>\n",
       "      <th>Points Redeemed</th>\n",
       "      <th>Dollar Cost Points Redeemed</th>\n",
       "      <th>Province</th>\n",
       "      <th>City</th>\n",
       "      <th>Postal Code</th>\n",
       "      <th>Gender</th>\n",
       "      <th>Education</th>\n",
       "      <th>Salary</th>\n",
       "      <th>Marital Status</th>\n",
       "      <th>Loyalty Card</th>\n",
       "      <th>CLV</th>\n",
       "      <th>Enrollment Type</th>\n",
       "      <th>Enrollment Year</th>\n",
       "      <th>Enrollment Month</th>\n",
       "      <th>Cancellation Year</th>\n",
       "      <th>Cancellation Month</th>\n",
       "    </tr>\n",
       "  </thead>\n",
       "  <tbody>\n",
       "    <tr>\n",
       "      <th>0</th>\n",
       "      <td>100018</td>\n",
       "      <td>2017</td>\n",
       "      <td>1</td>\n",
       "      <td>3</td>\n",
       "      <td>0</td>\n",
       "      <td>3</td>\n",
       "      <td>1521</td>\n",
       "      <td>152.0</td>\n",
       "      <td>0</td>\n",
       "      <td>0</td>\n",
       "      <td>Alberta</td>\n",
       "      <td>Edmonton</td>\n",
       "      <td>T9G 1W3</td>\n",
       "      <td>Female</td>\n",
       "      <td>Bachelor</td>\n",
       "      <td>92552.00</td>\n",
       "      <td>Married</td>\n",
       "      <td>Aurora</td>\n",
       "      <td>7919.20</td>\n",
       "      <td>Standard</td>\n",
       "      <td>2016</td>\n",
       "      <td>8</td>\n",
       "      <td>NaN</td>\n",
       "      <td>NaN</td>\n",
       "    </tr>\n",
       "    <tr>\n",
       "      <th>1</th>\n",
       "      <td>100102</td>\n",
       "      <td>2017</td>\n",
       "      <td>1</td>\n",
       "      <td>10</td>\n",
       "      <td>4</td>\n",
       "      <td>14</td>\n",
       "      <td>2030</td>\n",
       "      <td>203.0</td>\n",
       "      <td>0</td>\n",
       "      <td>0</td>\n",
       "      <td>Ontario</td>\n",
       "      <td>Toronto</td>\n",
       "      <td>M1R 4K3</td>\n",
       "      <td>Male</td>\n",
       "      <td>College</td>\n",
       "      <td>66888.21</td>\n",
       "      <td>Single</td>\n",
       "      <td>Nova</td>\n",
       "      <td>2887.74</td>\n",
       "      <td>Standard</td>\n",
       "      <td>2013</td>\n",
       "      <td>3</td>\n",
       "      <td>NaN</td>\n",
       "      <td>NaN</td>\n",
       "    </tr>\n",
       "  </tbody>\n",
       "</table>\n",
       "</div>"
      ],
      "text/plain": [
       "   Loyalty Number  Year  Month  Flights Booked  Flights with Companions  \\\n",
       "0          100018  2017      1               3                        0   \n",
       "1          100102  2017      1              10                        4   \n",
       "\n",
       "   Total Flights  Distance  Points Accumulated  Points Redeemed  \\\n",
       "0              3      1521               152.0                0   \n",
       "1             14      2030               203.0                0   \n",
       "\n",
       "   Dollar Cost Points Redeemed Province      City Postal Code  Gender  \\\n",
       "0                            0  Alberta  Edmonton     T9G 1W3  Female   \n",
       "1                            0  Ontario   Toronto     M1R 4K3    Male   \n",
       "\n",
       "  Education    Salary Marital Status Loyalty Card      CLV Enrollment Type  \\\n",
       "0  Bachelor  92552.00        Married       Aurora  7919.20        Standard   \n",
       "1   College  66888.21         Single         Nova  2887.74        Standard   \n",
       "\n",
       "   Enrollment Year  Enrollment Month  Cancellation Year  Cancellation Month  \n",
       "0             2016                 8                NaN                 NaN  \n",
       "1             2013                 3                NaN                 NaN  "
      ]
     },
     "execution_count": 2,
     "metadata": {},
     "output_type": "execute_result"
    }
   ],
   "source": [
    "df = pd.read_csv(\"files/Customer Complete Information.csv\", index_col=0)\n",
    "\n",
    "df.head(2)"
   ]
  },
  {
   "cell_type": "code",
   "execution_count": 3,
   "id": "3727b801",
   "metadata": {},
   "outputs": [
    {
     "name": "stdout",
     "output_type": "stream",
     "text": [
      "El número de filas que tenemos es 403760, y el número de columnas es 24\n"
     ]
    }
   ],
   "source": [
    "print(f\"El número de filas que tenemos es {df.shape[0]}, y el número de columnas es {df.shape[1]}\")"
   ]
  },
  {
   "cell_type": "code",
   "execution_count": 4,
   "id": "743816cb",
   "metadata": {},
   "outputs": [
    {
     "name": "stdout",
     "output_type": "stream",
     "text": [
      "<class 'pandas.core.frame.DataFrame'>\n",
      "Index: 403760 entries, 0 to 403759\n",
      "Data columns (total 24 columns):\n",
      " #   Column                       Non-Null Count   Dtype  \n",
      "---  ------                       --------------   -----  \n",
      " 0   Loyalty Number               403760 non-null  int64  \n",
      " 1   Year                         403760 non-null  int64  \n",
      " 2   Month                        403760 non-null  int64  \n",
      " 3   Flights Booked               403760 non-null  int64  \n",
      " 4   Flights with Companions      403760 non-null  int64  \n",
      " 5   Total Flights                403760 non-null  int64  \n",
      " 6   Distance                     403760 non-null  int64  \n",
      " 7   Points Accumulated           403760 non-null  float64\n",
      " 8   Points Redeemed              403760 non-null  int64  \n",
      " 9   Dollar Cost Points Redeemed  403760 non-null  int64  \n",
      " 10  Province                     403760 non-null  object \n",
      " 11  City                         403760 non-null  object \n",
      " 12  Postal Code                  403760 non-null  object \n",
      " 13  Gender                       403760 non-null  object \n",
      " 14  Education                    403760 non-null  object \n",
      " 15  Salary                       403760 non-null  float64\n",
      " 16  Marital Status               403760 non-null  object \n",
      " 17  Loyalty Card                 403760 non-null  object \n",
      " 18  CLV                          403760 non-null  float64\n",
      " 19  Enrollment Type              403760 non-null  object \n",
      " 20  Enrollment Year              403760 non-null  int64  \n",
      " 21  Enrollment Month             403760 non-null  int64  \n",
      " 22  Cancellation Year            49650 non-null   float64\n",
      " 23  Cancellation Month           49650 non-null   float64\n",
      "dtypes: float64(5), int64(11), object(8)\n",
      "memory usage: 77.0+ MB\n"
     ]
    }
   ],
   "source": [
    "df.info()\n",
    "# los datos están en el tipo de dato correcto para cada columna"
   ]
  },
  {
   "cell_type": "code",
   "execution_count": 5,
   "id": "bec2003a",
   "metadata": {},
   "outputs": [
    {
     "data": {
      "text/plain": [
       "Loyalty Number                  0.000000\n",
       "Year                            0.000000\n",
       "Month                           0.000000\n",
       "Flights Booked                  0.000000\n",
       "Flights with Companions         0.000000\n",
       "Total Flights                   0.000000\n",
       "Distance                        0.000000\n",
       "Points Accumulated              0.000000\n",
       "Points Redeemed                 0.000000\n",
       "Dollar Cost Points Redeemed     0.000000\n",
       "Province                        0.000000\n",
       "City                            0.000000\n",
       "Postal Code                     0.000000\n",
       "Gender                          0.000000\n",
       "Education                       0.000000\n",
       "Salary                          0.000000\n",
       "Marital Status                  0.000000\n",
       "Loyalty Card                    0.000000\n",
       "CLV                             0.000000\n",
       "Enrollment Type                 0.000000\n",
       "Enrollment Year                 0.000000\n",
       "Enrollment Month                0.000000\n",
       "Cancellation Year              87.703091\n",
       "Cancellation Month             87.703091\n",
       "dtype: float64"
      ]
     },
     "execution_count": 5,
     "metadata": {},
     "output_type": "execute_result"
    }
   ],
   "source": [
    "round(df.isna().sum()/df.shape[0]*100, 10)\n",
    "# solo tengo valores nulos en las columnas 'Cancellation Year' y 'Cancellation Month'"
   ]
  },
  {
   "cell_type": "code",
   "execution_count": 6,
   "id": "2e7c278d",
   "metadata": {},
   "outputs": [
    {
     "data": {
      "text/plain": [
       "np.int64(0)"
      ]
     },
     "execution_count": 6,
     "metadata": {},
     "output_type": "execute_result"
    }
   ],
   "source": [
    "df.duplicated().sum()\n",
    "# no hay filas duplicadas"
   ]
  },
  {
   "cell_type": "code",
   "execution_count": 7,
   "id": "98b0622a",
   "metadata": {},
   "outputs": [
    {
     "data": {
      "text/html": [
       "<div>\n",
       "<style scoped>\n",
       "    .dataframe tbody tr th:only-of-type {\n",
       "        vertical-align: middle;\n",
       "    }\n",
       "\n",
       "    .dataframe tbody tr th {\n",
       "        vertical-align: top;\n",
       "    }\n",
       "\n",
       "    .dataframe thead th {\n",
       "        text-align: right;\n",
       "    }\n",
       "</style>\n",
       "<table border=\"1\" class=\"dataframe\">\n",
       "  <thead>\n",
       "    <tr style=\"text-align: right;\">\n",
       "      <th></th>\n",
       "      <th>count</th>\n",
       "      <th>mean</th>\n",
       "      <th>std</th>\n",
       "      <th>min</th>\n",
       "      <th>25%</th>\n",
       "      <th>50%</th>\n",
       "      <th>75%</th>\n",
       "      <th>max</th>\n",
       "    </tr>\n",
       "  </thead>\n",
       "  <tbody>\n",
       "    <tr>\n",
       "      <th>Loyalty Number</th>\n",
       "      <td>403760.0</td>\n",
       "      <td>549875.383713</td>\n",
       "      <td>258961.514684</td>\n",
       "      <td>100018.00</td>\n",
       "      <td>326699.00</td>\n",
       "      <td>550598.00</td>\n",
       "      <td>772152.00</td>\n",
       "      <td>999986.00</td>\n",
       "    </tr>\n",
       "    <tr>\n",
       "      <th>Year</th>\n",
       "      <td>403760.0</td>\n",
       "      <td>2017.500352</td>\n",
       "      <td>0.500000</td>\n",
       "      <td>2017.00</td>\n",
       "      <td>2017.00</td>\n",
       "      <td>2018.00</td>\n",
       "      <td>2018.00</td>\n",
       "      <td>2018.00</td>\n",
       "    </tr>\n",
       "    <tr>\n",
       "      <th>Month</th>\n",
       "      <td>403760.0</td>\n",
       "      <td>6.501335</td>\n",
       "      <td>3.451982</td>\n",
       "      <td>1.00</td>\n",
       "      <td>4.00</td>\n",
       "      <td>7.00</td>\n",
       "      <td>10.00</td>\n",
       "      <td>12.00</td>\n",
       "    </tr>\n",
       "    <tr>\n",
       "      <th>Flights Booked</th>\n",
       "      <td>403760.0</td>\n",
       "      <td>4.134050</td>\n",
       "      <td>5.230064</td>\n",
       "      <td>0.00</td>\n",
       "      <td>0.00</td>\n",
       "      <td>1.00</td>\n",
       "      <td>8.00</td>\n",
       "      <td>21.00</td>\n",
       "    </tr>\n",
       "    <tr>\n",
       "      <th>Flights with Companions</th>\n",
       "      <td>403760.0</td>\n",
       "      <td>1.036569</td>\n",
       "      <td>2.080472</td>\n",
       "      <td>0.00</td>\n",
       "      <td>0.00</td>\n",
       "      <td>0.00</td>\n",
       "      <td>1.00</td>\n",
       "      <td>11.00</td>\n",
       "    </tr>\n",
       "    <tr>\n",
       "      <th>Total Flights</th>\n",
       "      <td>403760.0</td>\n",
       "      <td>5.170619</td>\n",
       "      <td>6.526858</td>\n",
       "      <td>0.00</td>\n",
       "      <td>0.00</td>\n",
       "      <td>1.00</td>\n",
       "      <td>10.00</td>\n",
       "      <td>32.00</td>\n",
       "    </tr>\n",
       "    <tr>\n",
       "      <th>Distance</th>\n",
       "      <td>403760.0</td>\n",
       "      <td>1214.460979</td>\n",
       "      <td>1434.098521</td>\n",
       "      <td>0.00</td>\n",
       "      <td>0.00</td>\n",
       "      <td>525.00</td>\n",
       "      <td>2342.00</td>\n",
       "      <td>6293.00</td>\n",
       "    </tr>\n",
       "    <tr>\n",
       "      <th>Points Accumulated</th>\n",
       "      <td>403760.0</td>\n",
       "      <td>124.263761</td>\n",
       "      <td>146.696179</td>\n",
       "      <td>0.00</td>\n",
       "      <td>0.00</td>\n",
       "      <td>53.00</td>\n",
       "      <td>240.00</td>\n",
       "      <td>676.50</td>\n",
       "    </tr>\n",
       "    <tr>\n",
       "      <th>Points Redeemed</th>\n",
       "      <td>403760.0</td>\n",
       "      <td>30.838587</td>\n",
       "      <td>125.758002</td>\n",
       "      <td>0.00</td>\n",
       "      <td>0.00</td>\n",
       "      <td>0.00</td>\n",
       "      <td>0.00</td>\n",
       "      <td>876.00</td>\n",
       "    </tr>\n",
       "    <tr>\n",
       "      <th>Dollar Cost Points Redeemed</th>\n",
       "      <td>403760.0</td>\n",
       "      <td>2.495973</td>\n",
       "      <td>10.172033</td>\n",
       "      <td>0.00</td>\n",
       "      <td>0.00</td>\n",
       "      <td>0.00</td>\n",
       "      <td>0.00</td>\n",
       "      <td>71.00</td>\n",
       "    </tr>\n",
       "    <tr>\n",
       "      <th>Salary</th>\n",
       "      <td>403760.0</td>\n",
       "      <td>76210.040184</td>\n",
       "      <td>30495.466827</td>\n",
       "      <td>9081.00</td>\n",
       "      <td>63901.00</td>\n",
       "      <td>66888.21</td>\n",
       "      <td>82940.00</td>\n",
       "      <td>407228.00</td>\n",
       "    </tr>\n",
       "    <tr>\n",
       "      <th>CLV</th>\n",
       "      <td>403760.0</td>\n",
       "      <td>7990.864857</td>\n",
       "      <td>6863.317160</td>\n",
       "      <td>1898.01</td>\n",
       "      <td>3981.78</td>\n",
       "      <td>5776.34</td>\n",
       "      <td>8937.12</td>\n",
       "      <td>83325.38</td>\n",
       "    </tr>\n",
       "    <tr>\n",
       "      <th>Enrollment Year</th>\n",
       "      <td>403760.0</td>\n",
       "      <td>2015.250716</td>\n",
       "      <td>1.979427</td>\n",
       "      <td>2012.00</td>\n",
       "      <td>2014.00</td>\n",
       "      <td>2015.00</td>\n",
       "      <td>2017.00</td>\n",
       "      <td>2018.00</td>\n",
       "    </tr>\n",
       "    <tr>\n",
       "      <th>Enrollment Month</th>\n",
       "      <td>403760.0</td>\n",
       "      <td>6.667555</td>\n",
       "      <td>3.398829</td>\n",
       "      <td>1.00</td>\n",
       "      <td>4.00</td>\n",
       "      <td>7.00</td>\n",
       "      <td>10.00</td>\n",
       "      <td>12.00</td>\n",
       "    </tr>\n",
       "    <tr>\n",
       "      <th>Cancellation Year</th>\n",
       "      <td>49650.0</td>\n",
       "      <td>2016.504350</td>\n",
       "      <td>1.380482</td>\n",
       "      <td>2013.00</td>\n",
       "      <td>2016.00</td>\n",
       "      <td>2017.00</td>\n",
       "      <td>2018.00</td>\n",
       "      <td>2018.00</td>\n",
       "    </tr>\n",
       "    <tr>\n",
       "      <th>Cancellation Month</th>\n",
       "      <td>49650.0</td>\n",
       "      <td>6.962095</td>\n",
       "      <td>3.454362</td>\n",
       "      <td>1.00</td>\n",
       "      <td>4.00</td>\n",
       "      <td>7.00</td>\n",
       "      <td>10.00</td>\n",
       "      <td>12.00</td>\n",
       "    </tr>\n",
       "  </tbody>\n",
       "</table>\n",
       "</div>"
      ],
      "text/plain": [
       "                                count           mean            std  \\\n",
       "Loyalty Number               403760.0  549875.383713  258961.514684   \n",
       "Year                         403760.0    2017.500352       0.500000   \n",
       "Month                        403760.0       6.501335       3.451982   \n",
       "Flights Booked               403760.0       4.134050       5.230064   \n",
       "Flights with Companions      403760.0       1.036569       2.080472   \n",
       "Total Flights                403760.0       5.170619       6.526858   \n",
       "Distance                     403760.0    1214.460979    1434.098521   \n",
       "Points Accumulated           403760.0     124.263761     146.696179   \n",
       "Points Redeemed              403760.0      30.838587     125.758002   \n",
       "Dollar Cost Points Redeemed  403760.0       2.495973      10.172033   \n",
       "Salary                       403760.0   76210.040184   30495.466827   \n",
       "CLV                          403760.0    7990.864857    6863.317160   \n",
       "Enrollment Year              403760.0    2015.250716       1.979427   \n",
       "Enrollment Month             403760.0       6.667555       3.398829   \n",
       "Cancellation Year             49650.0    2016.504350       1.380482   \n",
       "Cancellation Month            49650.0       6.962095       3.454362   \n",
       "\n",
       "                                   min        25%        50%        75%  \\\n",
       "Loyalty Number               100018.00  326699.00  550598.00  772152.00   \n",
       "Year                           2017.00    2017.00    2018.00    2018.00   \n",
       "Month                             1.00       4.00       7.00      10.00   \n",
       "Flights Booked                    0.00       0.00       1.00       8.00   \n",
       "Flights with Companions           0.00       0.00       0.00       1.00   \n",
       "Total Flights                     0.00       0.00       1.00      10.00   \n",
       "Distance                          0.00       0.00     525.00    2342.00   \n",
       "Points Accumulated                0.00       0.00      53.00     240.00   \n",
       "Points Redeemed                   0.00       0.00       0.00       0.00   \n",
       "Dollar Cost Points Redeemed       0.00       0.00       0.00       0.00   \n",
       "Salary                         9081.00   63901.00   66888.21   82940.00   \n",
       "CLV                            1898.01    3981.78    5776.34    8937.12   \n",
       "Enrollment Year                2012.00    2014.00    2015.00    2017.00   \n",
       "Enrollment Month                  1.00       4.00       7.00      10.00   \n",
       "Cancellation Year              2013.00    2016.00    2017.00    2018.00   \n",
       "Cancellation Month                1.00       4.00       7.00      10.00   \n",
       "\n",
       "                                   max  \n",
       "Loyalty Number               999986.00  \n",
       "Year                           2018.00  \n",
       "Month                            12.00  \n",
       "Flights Booked                   21.00  \n",
       "Flights with Companions          11.00  \n",
       "Total Flights                    32.00  \n",
       "Distance                       6293.00  \n",
       "Points Accumulated              676.50  \n",
       "Points Redeemed                 876.00  \n",
       "Dollar Cost Points Redeemed      71.00  \n",
       "Salary                       407228.00  \n",
       "CLV                           83325.38  \n",
       "Enrollment Year                2018.00  \n",
       "Enrollment Month                 12.00  \n",
       "Cancellation Year              2018.00  \n",
       "Cancellation Month               12.00  "
      ]
     },
     "execution_count": 7,
     "metadata": {},
     "output_type": "execute_result"
    }
   ],
   "source": [
    "df.describe().T\n",
    "# me llama la atención:\n",
    "# - 'Flights Booked': la mediana (50%) es 1 por lo que la mayoría de los datos están concentrados en valores bajos (50% es 0 y el otro 50% está entre 1 y 21 vuelos). Ver histograma\n",
    "# - 'Flights with Companions': el Q3 (75%) es 1 por lo que la mayoría de los datos están concentrados en valores bajos (75% es 0 y el otro 25% está entre 1 y 11 vuelos). Ver histograma\n",
    "# - 'Total Flights': la mediana (50%) es 1 por lo que la mayoría de los datos están concentrados en valores bajos (50% es 0 y el otro 50% está entre 1 y 32 vuelos). Ver histograma\n",
    "# - 'Distance' y 'Points Accumulated' tienen una clara relación: a más distancia, más puntos acumulados. Ver scatterplot\n",
    "# - recordar que la mediana (50%) de 'Salary' es un dato que he sacado yo (66888.21 para 'College')\n",
    "# - las columnas \"Cancellation Year\" y \"Cancellation Month\" aparecen como float y tiene un 87.70% de nulos"
   ]
  },
  {
   "cell_type": "code",
   "execution_count": 8,
   "id": "0f0db6d1",
   "metadata": {},
   "outputs": [
    {
     "data": {
      "text/html": [
       "<div>\n",
       "<style scoped>\n",
       "    .dataframe tbody tr th:only-of-type {\n",
       "        vertical-align: middle;\n",
       "    }\n",
       "\n",
       "    .dataframe tbody tr th {\n",
       "        vertical-align: top;\n",
       "    }\n",
       "\n",
       "    .dataframe thead th {\n",
       "        text-align: right;\n",
       "    }\n",
       "</style>\n",
       "<table border=\"1\" class=\"dataframe\">\n",
       "  <thead>\n",
       "    <tr style=\"text-align: right;\">\n",
       "      <th></th>\n",
       "      <th>count</th>\n",
       "      <th>unique</th>\n",
       "      <th>top</th>\n",
       "      <th>freq</th>\n",
       "    </tr>\n",
       "  </thead>\n",
       "  <tbody>\n",
       "    <tr>\n",
       "      <th>Province</th>\n",
       "      <td>403760</td>\n",
       "      <td>11</td>\n",
       "      <td>Ontario</td>\n",
       "      <td>130258</td>\n",
       "    </tr>\n",
       "    <tr>\n",
       "      <th>City</th>\n",
       "      <td>403760</td>\n",
       "      <td>29</td>\n",
       "      <td>Toronto</td>\n",
       "      <td>80775</td>\n",
       "    </tr>\n",
       "    <tr>\n",
       "      <th>Postal Code</th>\n",
       "      <td>403760</td>\n",
       "      <td>55</td>\n",
       "      <td>V6E 3D9</td>\n",
       "      <td>21944</td>\n",
       "    </tr>\n",
       "    <tr>\n",
       "      <th>Gender</th>\n",
       "      <td>403760</td>\n",
       "      <td>2</td>\n",
       "      <td>Female</td>\n",
       "      <td>202757</td>\n",
       "    </tr>\n",
       "    <tr>\n",
       "      <th>Education</th>\n",
       "      <td>403760</td>\n",
       "      <td>5</td>\n",
       "      <td>Bachelor</td>\n",
       "      <td>252567</td>\n",
       "    </tr>\n",
       "    <tr>\n",
       "      <th>Marital Status</th>\n",
       "      <td>403760</td>\n",
       "      <td>3</td>\n",
       "      <td>Married</td>\n",
       "      <td>234845</td>\n",
       "    </tr>\n",
       "    <tr>\n",
       "      <th>Loyalty Card</th>\n",
       "      <td>403760</td>\n",
       "      <td>3</td>\n",
       "      <td>Star</td>\n",
       "      <td>183745</td>\n",
       "    </tr>\n",
       "    <tr>\n",
       "      <th>Enrollment Type</th>\n",
       "      <td>403760</td>\n",
       "      <td>2</td>\n",
       "      <td>Standard</td>\n",
       "      <td>380419</td>\n",
       "    </tr>\n",
       "  </tbody>\n",
       "</table>\n",
       "</div>"
      ],
      "text/plain": [
       "                  count unique       top    freq\n",
       "Province         403760     11   Ontario  130258\n",
       "City             403760     29   Toronto   80775\n",
       "Postal Code      403760     55   V6E 3D9   21944\n",
       "Gender           403760      2    Female  202757\n",
       "Education        403760      5  Bachelor  252567\n",
       "Marital Status   403760      3   Married  234845\n",
       "Loyalty Card     403760      3      Star  183745\n",
       "Enrollment Type  403760      2  Standard  380419"
      ]
     },
     "execution_count": 8,
     "metadata": {},
     "output_type": "execute_result"
    }
   ],
   "source": [
    "df.describe(include=\"O\").T\n",
    "# me llama la atención:\n",
    "# - 'Ontario' es el valor que más sale, la moda, en la columna \"Province\" y es casi un tercio (32,26%) (recordar que son todos clientes de Canadá)\n",
    "# - 'Toronto' es la moda, en la columna \"City\", y es un quinto (20,00%)\n",
    "# - 'Female' es la moda, en la columna \"Gender\" (solo son Female y Male), y es un poco más de la mitad (50,22%)\n",
    "# - 'Bachelor' es la moda en la columna \"Education\", es casi dos tercios de los datos (62,55%)\n",
    "# - 'Married' es la moda en \"Marital Status\", es más de la mitad (58,17%)\n",
    "# - 'Star' es la moda en \"Loyalty Card\", está cerca de la mitad de los datos (45,51%)\n",
    "# - 'Standard' es la moda en \"Enrollment Type\", casi la totalidad de los datos (94,22%)"
   ]
  },
  {
   "cell_type": "code",
   "execution_count": 9,
   "id": "1296fc7a",
   "metadata": {},
   "outputs": [
    {
     "data": {
      "text/plain": [
       "np.float64(94.2190905488409)"
      ]
     },
     "execution_count": 9,
     "metadata": {},
     "output_type": "execute_result"
    }
   ],
   "source": [
    "(df['Enrollment Type'].value_counts(normalize=True).iloc[0]) * 100"
   ]
  },
  {
   "cell_type": "markdown",
   "id": "f3abfa27",
   "metadata": {},
   "source": [
    "## 4. VISUALIZACIÓN DE DATOS\n",
    "\n",
    "Tomando el dataframe (df) del archivo \"Customer Complete Information.csv\" y usando las herramientas de visualización aprendidas durante este módulo 3, contesta a las siguientes\n",
    "preguntas usando la mejor gráfica que consideres:\n",
    "\n",
    "1. ¿Cómo se distribuye la cantidad de vuelos reservados por mes durante el año?\n",
    "2. ¿Existe una relación entre la distancia de los vuelos y los puntos acumulados por los cliente?\n",
    "3. ¿Cuál es la distribución de los clientes por provincia o estado?\n",
    "4. ¿Cómo se compara el salario promedio entre los diferentes niveles educativos de los clientes?\n",
    "5. ¿Cuál es la proporción de clientes con diferentes tipos de tarjetas de fidelidad?\n",
    "6. ¿Cómo se distribuyen los clientes según su estado civil y género?"
   ]
  },
  {
   "cell_type": "markdown",
   "id": "92ce4b00",
   "metadata": {},
   "source": [
    "### 1. ¿Cómo se distribuye la cantidad de vuelos reservados por mes durante el año?"
   ]
  },
  {
   "cell_type": "code",
   "execution_count": 10,
   "id": "2d95091d",
   "metadata": {},
   "outputs": [
    {
     "data": {
      "text/html": [
       "<div>\n",
       "<style scoped>\n",
       "    .dataframe tbody tr th:only-of-type {\n",
       "        vertical-align: middle;\n",
       "    }\n",
       "\n",
       "    .dataframe tbody tr th {\n",
       "        vertical-align: top;\n",
       "    }\n",
       "\n",
       "    .dataframe thead th {\n",
       "        text-align: right;\n",
       "    }\n",
       "</style>\n",
       "<table border=\"1\" class=\"dataframe\">\n",
       "  <thead>\n",
       "    <tr style=\"text-align: right;\">\n",
       "      <th></th>\n",
       "      <th>Year</th>\n",
       "      <th>Month</th>\n",
       "      <th>Flights Booked</th>\n",
       "    </tr>\n",
       "  </thead>\n",
       "  <tbody>\n",
       "    <tr>\n",
       "      <th>0</th>\n",
       "      <td>2017</td>\n",
       "      <td>1</td>\n",
       "      <td>16797</td>\n",
       "    </tr>\n",
       "    <tr>\n",
       "      <th>1</th>\n",
       "      <td>2017</td>\n",
       "      <td>2</td>\n",
       "      <td>16800</td>\n",
       "    </tr>\n",
       "    <tr>\n",
       "      <th>2</th>\n",
       "      <td>2017</td>\n",
       "      <td>3</td>\n",
       "      <td>16807</td>\n",
       "    </tr>\n",
       "    <tr>\n",
       "      <th>3</th>\n",
       "      <td>2017</td>\n",
       "      <td>4</td>\n",
       "      <td>16807</td>\n",
       "    </tr>\n",
       "    <tr>\n",
       "      <th>4</th>\n",
       "      <td>2017</td>\n",
       "      <td>5</td>\n",
       "      <td>16811</td>\n",
       "    </tr>\n",
       "    <tr>\n",
       "      <th>5</th>\n",
       "      <td>2017</td>\n",
       "      <td>6</td>\n",
       "      <td>16814</td>\n",
       "    </tr>\n",
       "    <tr>\n",
       "      <th>6</th>\n",
       "      <td>2017</td>\n",
       "      <td>7</td>\n",
       "      <td>16812</td>\n",
       "    </tr>\n",
       "    <tr>\n",
       "      <th>7</th>\n",
       "      <td>2017</td>\n",
       "      <td>8</td>\n",
       "      <td>16817</td>\n",
       "    </tr>\n",
       "    <tr>\n",
       "      <th>8</th>\n",
       "      <td>2017</td>\n",
       "      <td>9</td>\n",
       "      <td>16814</td>\n",
       "    </tr>\n",
       "    <tr>\n",
       "      <th>9</th>\n",
       "      <td>2017</td>\n",
       "      <td>10</td>\n",
       "      <td>16817</td>\n",
       "    </tr>\n",
       "    <tr>\n",
       "      <th>10</th>\n",
       "      <td>2017</td>\n",
       "      <td>11</td>\n",
       "      <td>16821</td>\n",
       "    </tr>\n",
       "    <tr>\n",
       "      <th>11</th>\n",
       "      <td>2017</td>\n",
       "      <td>12</td>\n",
       "      <td>16821</td>\n",
       "    </tr>\n",
       "    <tr>\n",
       "      <th>12</th>\n",
       "      <td>2018</td>\n",
       "      <td>1</td>\n",
       "      <td>16828</td>\n",
       "    </tr>\n",
       "    <tr>\n",
       "      <th>13</th>\n",
       "      <td>2018</td>\n",
       "      <td>2</td>\n",
       "      <td>16826</td>\n",
       "    </tr>\n",
       "    <tr>\n",
       "      <th>14</th>\n",
       "      <td>2018</td>\n",
       "      <td>3</td>\n",
       "      <td>16827</td>\n",
       "    </tr>\n",
       "    <tr>\n",
       "      <th>15</th>\n",
       "      <td>2018</td>\n",
       "      <td>4</td>\n",
       "      <td>16833</td>\n",
       "    </tr>\n",
       "    <tr>\n",
       "      <th>16</th>\n",
       "      <td>2018</td>\n",
       "      <td>5</td>\n",
       "      <td>16829</td>\n",
       "    </tr>\n",
       "    <tr>\n",
       "      <th>17</th>\n",
       "      <td>2018</td>\n",
       "      <td>6</td>\n",
       "      <td>16832</td>\n",
       "    </tr>\n",
       "    <tr>\n",
       "      <th>18</th>\n",
       "      <td>2018</td>\n",
       "      <td>7</td>\n",
       "      <td>16836</td>\n",
       "    </tr>\n",
       "    <tr>\n",
       "      <th>19</th>\n",
       "      <td>2018</td>\n",
       "      <td>8</td>\n",
       "      <td>16838</td>\n",
       "    </tr>\n",
       "    <tr>\n",
       "      <th>20</th>\n",
       "      <td>2018</td>\n",
       "      <td>9</td>\n",
       "      <td>16845</td>\n",
       "    </tr>\n",
       "    <tr>\n",
       "      <th>21</th>\n",
       "      <td>2018</td>\n",
       "      <td>10</td>\n",
       "      <td>16845</td>\n",
       "    </tr>\n",
       "    <tr>\n",
       "      <th>22</th>\n",
       "      <td>2018</td>\n",
       "      <td>11</td>\n",
       "      <td>16842</td>\n",
       "    </tr>\n",
       "    <tr>\n",
       "      <th>23</th>\n",
       "      <td>2018</td>\n",
       "      <td>12</td>\n",
       "      <td>16841</td>\n",
       "    </tr>\n",
       "  </tbody>\n",
       "</table>\n",
       "</div>"
      ],
      "text/plain": [
       "    Year  Month  Flights Booked\n",
       "0   2017      1           16797\n",
       "1   2017      2           16800\n",
       "2   2017      3           16807\n",
       "3   2017      4           16807\n",
       "4   2017      5           16811\n",
       "5   2017      6           16814\n",
       "6   2017      7           16812\n",
       "7   2017      8           16817\n",
       "8   2017      9           16814\n",
       "9   2017     10           16817\n",
       "10  2017     11           16821\n",
       "11  2017     12           16821\n",
       "12  2018      1           16828\n",
       "13  2018      2           16826\n",
       "14  2018      3           16827\n",
       "15  2018      4           16833\n",
       "16  2018      5           16829\n",
       "17  2018      6           16832\n",
       "18  2018      7           16836\n",
       "19  2018      8           16838\n",
       "20  2018      9           16845\n",
       "21  2018     10           16845\n",
       "22  2018     11           16842\n",
       "23  2018     12           16841"
      ]
     },
     "execution_count": 10,
     "metadata": {},
     "output_type": "execute_result"
    }
   ],
   "source": [
    "# necesitaré las columnas \"Flights Booked\", \"Month\" y \"Year\"\n",
    "df_vuelos_mes_año = df.groupby(['Year', 'Month'])['Flights Booked'].count().reset_index()\n",
    "df_vuelos_mes_año"
   ]
  },
  {
   "cell_type": "code",
   "execution_count": 11,
   "id": "ba1ee8ee",
   "metadata": {},
   "outputs": [
    {
     "data": {
      "text/plain": [
       "Text(0.5, 1.0, 'Distribución de vuelos reservados por mes entre 2017 y 2018')"
      ]
     },
     "execution_count": 11,
     "metadata": {},
     "output_type": "execute_result"
    },
    {
     "data": {
      "image/png": "[encoded data removed]",
      "text/plain": [
       "<Figure size 640x480 with 1 Axes>"
      ]
     },
     "metadata": {},
     "output_type": "display_data"
    }
   ],
   "source": [
    "# se ve un crecimiento de vuelos mensual\n",
    "# las visualizo con un Scatterplot:\n",
    "sns.scatterplot(data=df_vuelos_mes_año, x='Month', y='Flights Booked', hue='Year')\n",
    "plt.xlabel('Mes')\n",
    "plt.ylabel('Vuelos reservados')\n",
    "plt.title('Distribución de vuelos reservados por mes entre 2017 y 2018', fontsize=12)"
   ]
  },
  {
   "cell_type": "code",
   "execution_count": 12,
   "id": "528aaffa",
   "metadata": {},
   "outputs": [
    {
     "name": "stdout",
     "output_type": "stream",
     "text": [
      "Los datos se ajustan a una distribución normal (p-value = 0.5756098691304692 )\n"
     ]
    }
   ],
   "source": [
    "# Realizo una prueba de normalidad (usando la prueba de Shapiro-Wilk)\n",
    "p_value = shapiro(df_vuelos_mes_año['Flights Booked']).pvalue\n",
    "\n",
    "alpha = 0.05\n",
    "if p_value > alpha:\n",
    "    print(\"Los datos se ajustan a una distribución normal (p-value =\", p_value, \")\")\n",
    "else:\n",
    "    print(\"Los datos no se ajustan a una distribución normal (p-value =\", p_value, \")\")"
   ]
  },
  {
   "cell_type": "markdown",
   "id": "18728acb",
   "metadata": {},
   "source": [
    "1. ¿Cómo se distribuye la cantidad de vuelos reservados por mes durante el año?\n",
    "\n",
    "Este gráfico Scatterplot muestra el número de vuelos reservados por mes, agrupados por año (en 2017 y 2018) y parece bastante uniforme. Los datos son similares mes a mes (con una variación en aumento de unos 7 vuelos como mucho entre meses), por lo que se confirma un aumento de reservas entre enero y diciembre, en ambos años (cada mes reservan más vuelos), lo que sugiere una distribución en crecimiento constante. Viendo la Prueba de Shapiro-Wilk veo que hay una distribución normal.\n",
    "\n",
    "### 2. ¿Existe una relación entre la distancia de los vuelos y los puntos acumulados por los cliente?"
   ]
  },
  {
   "cell_type": "code",
   "execution_count": 13,
   "id": "08ce1665",
   "metadata": {},
   "outputs": [
    {
     "data": {
      "text/html": [
       "<div>\n",
       "<style scoped>\n",
       "    .dataframe tbody tr th:only-of-type {\n",
       "        vertical-align: middle;\n",
       "    }\n",
       "\n",
       "    .dataframe tbody tr th {\n",
       "        vertical-align: top;\n",
       "    }\n",
       "\n",
       "    .dataframe thead th {\n",
       "        text-align: right;\n",
       "    }\n",
       "</style>\n",
       "<table border=\"1\" class=\"dataframe\">\n",
       "  <thead>\n",
       "    <tr style=\"text-align: right;\">\n",
       "      <th></th>\n",
       "      <th>Loyalty Number</th>\n",
       "      <th>Year</th>\n",
       "      <th>Month</th>\n",
       "      <th>Flights Booked</th>\n",
       "      <th>Flights with Companions</th>\n",
       "      <th>Total Flights</th>\n",
       "      <th>Distance</th>\n",
       "      <th>Points Accumulated</th>\n",
       "      <th>Points Redeemed</th>\n",
       "      <th>Dollar Cost Points Redeemed</th>\n",
       "      <th>Province</th>\n",
       "      <th>City</th>\n",
       "      <th>Postal Code</th>\n",
       "      <th>Gender</th>\n",
       "      <th>Education</th>\n",
       "      <th>Salary</th>\n",
       "      <th>Marital Status</th>\n",
       "      <th>Loyalty Card</th>\n",
       "      <th>CLV</th>\n",
       "      <th>Enrollment Type</th>\n",
       "      <th>Enrollment Year</th>\n",
       "      <th>Enrollment Month</th>\n",
       "      <th>Cancellation Year</th>\n",
       "      <th>Cancellation Month</th>\n",
       "    </tr>\n",
       "  </thead>\n",
       "  <tbody>\n",
       "    <tr>\n",
       "      <th>0</th>\n",
       "      <td>100018</td>\n",
       "      <td>2017</td>\n",
       "      <td>1</td>\n",
       "      <td>3</td>\n",
       "      <td>0</td>\n",
       "      <td>3</td>\n",
       "      <td>1521</td>\n",
       "      <td>152.0</td>\n",
       "      <td>0</td>\n",
       "      <td>0</td>\n",
       "      <td>Alberta</td>\n",
       "      <td>Edmonton</td>\n",
       "      <td>T9G 1W3</td>\n",
       "      <td>Female</td>\n",
       "      <td>Bachelor</td>\n",
       "      <td>92552.00</td>\n",
       "      <td>Married</td>\n",
       "      <td>Aurora</td>\n",
       "      <td>7919.20</td>\n",
       "      <td>Standard</td>\n",
       "      <td>2016</td>\n",
       "      <td>8</td>\n",
       "      <td>NaN</td>\n",
       "      <td>NaN</td>\n",
       "    </tr>\n",
       "    <tr>\n",
       "      <th>1</th>\n",
       "      <td>100102</td>\n",
       "      <td>2017</td>\n",
       "      <td>1</td>\n",
       "      <td>10</td>\n",
       "      <td>4</td>\n",
       "      <td>14</td>\n",
       "      <td>2030</td>\n",
       "      <td>203.0</td>\n",
       "      <td>0</td>\n",
       "      <td>0</td>\n",
       "      <td>Ontario</td>\n",
       "      <td>Toronto</td>\n",
       "      <td>M1R 4K3</td>\n",
       "      <td>Male</td>\n",
       "      <td>College</td>\n",
       "      <td>66888.21</td>\n",
       "      <td>Single</td>\n",
       "      <td>Nova</td>\n",
       "      <td>2887.74</td>\n",
       "      <td>Standard</td>\n",
       "      <td>2013</td>\n",
       "      <td>3</td>\n",
       "      <td>NaN</td>\n",
       "      <td>NaN</td>\n",
       "    </tr>\n",
       "  </tbody>\n",
       "</table>\n",
       "</div>"
      ],
      "text/plain": [
       "   Loyalty Number  Year  Month  Flights Booked  Flights with Companions  \\\n",
       "0          100018  2017      1               3                        0   \n",
       "1          100102  2017      1              10                        4   \n",
       "\n",
       "   Total Flights  Distance  Points Accumulated  Points Redeemed  \\\n",
       "0              3      1521               152.0                0   \n",
       "1             14      2030               203.0                0   \n",
       "\n",
       "   Dollar Cost Points Redeemed Province      City Postal Code  Gender  \\\n",
       "0                            0  Alberta  Edmonton     T9G 1W3  Female   \n",
       "1                            0  Ontario   Toronto     M1R 4K3    Male   \n",
       "\n",
       "  Education    Salary Marital Status Loyalty Card      CLV Enrollment Type  \\\n",
       "0  Bachelor  92552.00        Married       Aurora  7919.20        Standard   \n",
       "1   College  66888.21         Single         Nova  2887.74        Standard   \n",
       "\n",
       "   Enrollment Year  Enrollment Month  Cancellation Year  Cancellation Month  \n",
       "0             2016                 8                NaN                 NaN  \n",
       "1             2013                 3                NaN                 NaN  "
      ]
     },
     "execution_count": 13,
     "metadata": {},
     "output_type": "execute_result"
    }
   ],
   "source": [
    "df.head(2)"
   ]
  },
  {
   "cell_type": "code",
   "execution_count": 14,
   "id": "56269f08",
   "metadata": {},
   "outputs": [
    {
     "data": {
      "text/html": [
       "<div>\n",
       "<style scoped>\n",
       "    .dataframe tbody tr th:only-of-type {\n",
       "        vertical-align: middle;\n",
       "    }\n",
       "\n",
       "    .dataframe tbody tr th {\n",
       "        vertical-align: top;\n",
       "    }\n",
       "\n",
       "    .dataframe thead th {\n",
       "        text-align: right;\n",
       "    }\n",
       "</style>\n",
       "<table border=\"1\" class=\"dataframe\">\n",
       "  <thead>\n",
       "    <tr style=\"text-align: right;\">\n",
       "      <th></th>\n",
       "      <th>Distance</th>\n",
       "      <th>Points Accumulated</th>\n",
       "    </tr>\n",
       "  </thead>\n",
       "  <tbody>\n",
       "    <tr>\n",
       "      <th>Distance</th>\n",
       "      <td>1.000000</td>\n",
       "      <td>0.994546</td>\n",
       "    </tr>\n",
       "    <tr>\n",
       "      <th>Points Accumulated</th>\n",
       "      <td>0.994546</td>\n",
       "      <td>1.000000</td>\n",
       "    </tr>\n",
       "  </tbody>\n",
       "</table>\n",
       "</div>"
      ],
      "text/plain": [
       "                    Distance  Points Accumulated\n",
       "Distance            1.000000            0.994546\n",
       "Points Accumulated  0.994546            1.000000"
      ]
     },
     "execution_count": 14,
     "metadata": {},
     "output_type": "execute_result"
    }
   ],
   "source": [
    "# necesitaré las columnas \"Distance\" y \"Points Accumulated\":\n",
    "df[['Distance', 'Points Accumulated']].corr(numeric_only=True)"
   ]
  },
  {
   "cell_type": "code",
   "execution_count": 15,
   "id": "8b277272",
   "metadata": {},
   "outputs": [
    {
     "data": {
      "text/plain": [
       "Text(0.5, 1.0, 'Correlación positiva entre distancia de vuelo y puntos acumulados por vuelo')"
      ]
     },
     "execution_count": 15,
     "metadata": {},
     "output_type": "execute_result"
    },
    {
     "data": {
      "image/png": "[encoded data removed]",
      "text/plain": [
       "<Figure size 640x480 with 1 Axes>"
      ]
     },
     "metadata": {},
     "output_type": "display_data"
    }
   ],
   "source": [
    "# hay una clarísima correlación entre estas columnas (0,995)\n",
    "# las visualizo con un Scatterplot:\n",
    "sns.scatterplot(data=df, x='Distance', y='Points Accumulated')\n",
    "plt.xlabel('Distacia por vuelo')\n",
    "plt.ylabel('Puntos acumulados pr vuelo')\n",
    "plt.title('Correlación positiva entre distancia de vuelo y puntos acumulados por vuelo', fontsize=12)"
   ]
  },
  {
   "cell_type": "markdown",
   "id": "d44d6dc3",
   "metadata": {},
   "source": [
    "2. ¿Existe una relación entre la distancia de los vuelos y los puntos acumulados por los cliente?\n",
    "\n",
    "Este gráfico Scatterplot muestra la correlación positiva muy alta (0,995) que existe entre la distancia de vuelo y los puntos acumulados por vuelo, y es una relación uniforme y constante, en la que a mayor distancia se consiguen más puntos acumulados.\n",
    "\n",
    "### 3. ¿Cuál es la distribución de los clientes por provincia o estado?"
   ]
  },
  {
   "cell_type": "code",
   "execution_count": 16,
   "id": "3baa236a",
   "metadata": {},
   "outputs": [
    {
     "data": {
      "text/plain": [
       "Province\n",
       "Ontario                 130258\n",
       "British Columbia        106442\n",
       "Quebec                   79573\n",
       "Alberta                  23360\n",
       "Manitoba                 15900\n",
       "New Brunswick            15352\n",
       "Nova Scotia              12507\n",
       "Saskatchewan              9861\n",
       "Newfoundland              6244\n",
       "Yukon                     2679\n",
       "Prince Edward Island      1584\n",
       "Name: count, dtype: int64"
      ]
     },
     "execution_count": 16,
     "metadata": {},
     "output_type": "execute_result"
    }
   ],
   "source": [
    "# necesitaré la columna \"Province\": \n",
    "df_clientes_provincia = df['Province'].value_counts()\n",
    "df_clientes_provincia"
   ]
  },
  {
   "cell_type": "code",
   "execution_count": 17,
   "id": "f59f8406",
   "metadata": {},
   "outputs": [
    {
     "data": {
      "text/plain": [
       "Province\n",
       "Ontario                 32.26\n",
       "British Columbia        26.36\n",
       "Quebec                  19.71\n",
       "Alberta                  5.79\n",
       "Manitoba                 3.94\n",
       "New Brunswick            3.80\n",
       "Nova Scotia              3.10\n",
       "Saskatchewan             2.44\n",
       "Newfoundland             1.55\n",
       "Yukon                    0.66\n",
       "Prince Edward Island     0.39\n",
       "Name: proportion, dtype: float64"
      ]
     },
     "execution_count": 17,
     "metadata": {},
     "output_type": "execute_result"
    }
   ],
   "source": [
    "# porcentaje de los clientes por provincia:\n",
    "df_porcentaje_clientes_provincia = round(df['Province'].value_counts(normalize=True) * 100, 2)\n",
    "df_porcentaje_clientes_provincia"
   ]
  },
  {
   "cell_type": "code",
   "execution_count": 18,
   "id": "cfed3ce6",
   "metadata": {},
   "outputs": [
    {
     "data": {
      "text/plain": [
       "Text(0.5, 1.0, 'Distribución de clientes por provincia canadiense')"
      ]
     },
     "execution_count": 18,
     "metadata": {},
     "output_type": "execute_result"
    },
    {
     "data": {
      "image/png": "[encoded data removed]",
      "text/plain": [
       "<Figure size 640x480 with 1 Axes>"
      ]
     },
     "metadata": {},
     "output_type": "display_data"
    }
   ],
   "source": [
    "# para visualizarlo mejor voy a usar un Countplot:\n",
    "sns.countplot(data=df, y='Province', order=['Ontario', 'British Columbia', 'Quebec', 'Alberta', 'Manitoba', 'New Brunswick', 'Nova Scotia', 'Saskatchewan', 'Newfoundland', 'Yukon', 'Prince Edward Island'])\n",
    "plt.xlabel(\"Nº clientes\")\n",
    "plt.ylabel(\"Provincia\")\n",
    "plt.title('Distribución de clientes por provincia canadiense', fontsize=12)"
   ]
  },
  {
   "cell_type": "markdown",
   "id": "9b872406",
   "metadata": {},
   "source": [
    "3. ¿Cuál es la distribución de los clientes por provincia o estado?\n",
    "\n",
    "En el Countplot veo una distribución desigual en la que las 3 primeras provincias ('Ontario', 'British Columbia', 'Quebec') tienen la mayor parte de clientes (78,33%) pues son provincias en las que vive una mayor parte de la población de Canadá, mientras que las últimas ('Yukon', 'Prince Edward Island') no tienen casi representación (1,05%), pues son zonas prácticamente deshabitadas. Veo una distribución desigual y, aunque no puedo comprobar con la prueba de Shapiro-Wilk o la prueba de Kolmogorov si es normal o no (debido a que no le puedo pasar datos categóricos), claramente no es una distribución normal: no es simétrica, no tiene forma de campana, los datos no se agrupan alrededor de la media ni disminuyen hacia los extremos.\n",
    "\n",
    "### 4. ¿Cómo se compara el salario promedio entre los diferentes niveles educativos de los clientes?"
   ]
  },
  {
   "cell_type": "code",
   "execution_count": 19,
   "id": "eeb0c58d",
   "metadata": {},
   "outputs": [
    {
     "data": {
      "text/html": [
       "<div>\n",
       "<style scoped>\n",
       "    .dataframe tbody tr th:only-of-type {\n",
       "        vertical-align: middle;\n",
       "    }\n",
       "\n",
       "    .dataframe tbody tr th {\n",
       "        vertical-align: top;\n",
       "    }\n",
       "\n",
       "    .dataframe thead th {\n",
       "        text-align: right;\n",
       "    }\n",
       "</style>\n",
       "<table border=\"1\" class=\"dataframe\">\n",
       "  <thead>\n",
       "    <tr style=\"text-align: right;\">\n",
       "      <th></th>\n",
       "      <th>Loyalty Number</th>\n",
       "      <th>Year</th>\n",
       "      <th>Month</th>\n",
       "      <th>Flights Booked</th>\n",
       "      <th>Flights with Companions</th>\n",
       "      <th>Total Flights</th>\n",
       "      <th>Distance</th>\n",
       "      <th>Points Accumulated</th>\n",
       "      <th>Points Redeemed</th>\n",
       "      <th>Dollar Cost Points Redeemed</th>\n",
       "      <th>Province</th>\n",
       "      <th>City</th>\n",
       "      <th>Postal Code</th>\n",
       "      <th>Gender</th>\n",
       "      <th>Education</th>\n",
       "      <th>Salary</th>\n",
       "      <th>Marital Status</th>\n",
       "      <th>Loyalty Card</th>\n",
       "      <th>CLV</th>\n",
       "      <th>Enrollment Type</th>\n",
       "      <th>Enrollment Year</th>\n",
       "      <th>Enrollment Month</th>\n",
       "      <th>Cancellation Year</th>\n",
       "      <th>Cancellation Month</th>\n",
       "    </tr>\n",
       "  </thead>\n",
       "  <tbody>\n",
       "    <tr>\n",
       "      <th>0</th>\n",
       "      <td>100018</td>\n",
       "      <td>2017</td>\n",
       "      <td>1</td>\n",
       "      <td>3</td>\n",
       "      <td>0</td>\n",
       "      <td>3</td>\n",
       "      <td>1521</td>\n",
       "      <td>152.0</td>\n",
       "      <td>0</td>\n",
       "      <td>0</td>\n",
       "      <td>Alberta</td>\n",
       "      <td>Edmonton</td>\n",
       "      <td>T9G 1W3</td>\n",
       "      <td>Female</td>\n",
       "      <td>Bachelor</td>\n",
       "      <td>92552.00</td>\n",
       "      <td>Married</td>\n",
       "      <td>Aurora</td>\n",
       "      <td>7919.20</td>\n",
       "      <td>Standard</td>\n",
       "      <td>2016</td>\n",
       "      <td>8</td>\n",
       "      <td>NaN</td>\n",
       "      <td>NaN</td>\n",
       "    </tr>\n",
       "    <tr>\n",
       "      <th>1</th>\n",
       "      <td>100102</td>\n",
       "      <td>2017</td>\n",
       "      <td>1</td>\n",
       "      <td>10</td>\n",
       "      <td>4</td>\n",
       "      <td>14</td>\n",
       "      <td>2030</td>\n",
       "      <td>203.0</td>\n",
       "      <td>0</td>\n",
       "      <td>0</td>\n",
       "      <td>Ontario</td>\n",
       "      <td>Toronto</td>\n",
       "      <td>M1R 4K3</td>\n",
       "      <td>Male</td>\n",
       "      <td>College</td>\n",
       "      <td>66888.21</td>\n",
       "      <td>Single</td>\n",
       "      <td>Nova</td>\n",
       "      <td>2887.74</td>\n",
       "      <td>Standard</td>\n",
       "      <td>2013</td>\n",
       "      <td>3</td>\n",
       "      <td>NaN</td>\n",
       "      <td>NaN</td>\n",
       "    </tr>\n",
       "  </tbody>\n",
       "</table>\n",
       "</div>"
      ],
      "text/plain": [
       "   Loyalty Number  Year  Month  Flights Booked  Flights with Companions  \\\n",
       "0          100018  2017      1               3                        0   \n",
       "1          100102  2017      1              10                        4   \n",
       "\n",
       "   Total Flights  Distance  Points Accumulated  Points Redeemed  \\\n",
       "0              3      1521               152.0                0   \n",
       "1             14      2030               203.0                0   \n",
       "\n",
       "   Dollar Cost Points Redeemed Province      City Postal Code  Gender  \\\n",
       "0                            0  Alberta  Edmonton     T9G 1W3  Female   \n",
       "1                            0  Ontario   Toronto     M1R 4K3    Male   \n",
       "\n",
       "  Education    Salary Marital Status Loyalty Card      CLV Enrollment Type  \\\n",
       "0  Bachelor  92552.00        Married       Aurora  7919.20        Standard   \n",
       "1   College  66888.21         Single         Nova  2887.74        Standard   \n",
       "\n",
       "   Enrollment Year  Enrollment Month  Cancellation Year  Cancellation Month  \n",
       "0             2016                 8                NaN                 NaN  \n",
       "1             2013                 3                NaN                 NaN  "
      ]
     },
     "execution_count": 19,
     "metadata": {},
     "output_type": "execute_result"
    }
   ],
   "source": [
    "df.head(2)"
   ]
  },
  {
   "cell_type": "code",
   "execution_count": 20,
   "id": "0d1079a1",
   "metadata": {},
   "outputs": [
    {
     "data": {
      "text/plain": [
       "Education\n",
       "Bachelor                 72599.08\n",
       "College                  66888.21\n",
       "Doctor                  178403.68\n",
       "High School or Below     61146.38\n",
       "Master                  103734.52\n",
       "Name: Salary, dtype: float64"
      ]
     },
     "execution_count": 20,
     "metadata": {},
     "output_type": "execute_result"
    }
   ],
   "source": [
    "# necesitaré las columnas \"Education\" y \"Salary\":\n",
    "# para comparar los salarios medios según educación saco las medias del salario de cada nivel de estudios:\n",
    "round(df.groupby('Education')['Salary'].mean(), 2)"
   ]
  },
  {
   "cell_type": "code",
   "execution_count": 21,
   "id": "b1c73933",
   "metadata": {},
   "outputs": [],
   "source": [
    "# Voy a verlo en un Barplot:\n",
    "# quiero que salgan en orden educativo de menor a mayor:\n",
    "orden_educativo = ['High School or Below', 'College', 'Bachelor', 'Master', 'Doctor']\n",
    "\n",
    "salario_educacion = round(df.groupby('Education')['Salary'].mean(), 2)\n",
    "salario_educacion =salario_educacion.reset_index()"
   ]
  },
  {
   "cell_type": "code",
   "execution_count": 22,
   "id": "fe7e7864",
   "metadata": {},
   "outputs": [
    {
     "data": {
      "text/html": [
       "<div>\n",
       "<style scoped>\n",
       "    .dataframe tbody tr th:only-of-type {\n",
       "        vertical-align: middle;\n",
       "    }\n",
       "\n",
       "    .dataframe tbody tr th {\n",
       "        vertical-align: top;\n",
       "    }\n",
       "\n",
       "    .dataframe thead th {\n",
       "        text-align: right;\n",
       "    }\n",
       "</style>\n",
       "<table border=\"1\" class=\"dataframe\">\n",
       "  <thead>\n",
       "    <tr style=\"text-align: right;\">\n",
       "      <th></th>\n",
       "      <th>Education</th>\n",
       "      <th>Salary</th>\n",
       "    </tr>\n",
       "  </thead>\n",
       "  <tbody>\n",
       "    <tr>\n",
       "      <th>0</th>\n",
       "      <td>Bachelor</td>\n",
       "      <td>72599.08</td>\n",
       "    </tr>\n",
       "    <tr>\n",
       "      <th>1</th>\n",
       "      <td>College</td>\n",
       "      <td>66888.21</td>\n",
       "    </tr>\n",
       "    <tr>\n",
       "      <th>2</th>\n",
       "      <td>Doctor</td>\n",
       "      <td>178403.68</td>\n",
       "    </tr>\n",
       "    <tr>\n",
       "      <th>3</th>\n",
       "      <td>High School or Below</td>\n",
       "      <td>61146.38</td>\n",
       "    </tr>\n",
       "    <tr>\n",
       "      <th>4</th>\n",
       "      <td>Master</td>\n",
       "      <td>103734.52</td>\n",
       "    </tr>\n",
       "  </tbody>\n",
       "</table>\n",
       "</div>"
      ],
      "text/plain": [
       "              Education     Salary\n",
       "0              Bachelor   72599.08\n",
       "1               College   66888.21\n",
       "2                Doctor  178403.68\n",
       "3  High School or Below   61146.38\n",
       "4                Master  103734.52"
      ]
     },
     "execution_count": 22,
     "metadata": {},
     "output_type": "execute_result"
    }
   ],
   "source": [
    "salario_educacion"
   ]
  },
  {
   "cell_type": "code",
   "execution_count": 23,
   "id": "f2ce0630",
   "metadata": {},
   "outputs": [
    {
     "data": {
      "text/plain": [
       "Text(0.5, 1.0, 'Distribución del salario de los clientes por educación')"
      ]
     },
     "execution_count": 23,
     "metadata": {},
     "output_type": "execute_result"
    },
    {
     "data": {
      "image/png": "[encoded data removed]",
      "text/plain": [
       "<Figure size 640x480 with 1 Axes>"
      ]
     },
     "metadata": {},
     "output_type": "display_data"
    }
   ],
   "source": [
    "# Visualización con el Barplot:\n",
    "sns.barplot(data=salario_educacion, x='Education', y='Salary', order=orden_educativo)\n",
    "plt.xlabel(\"Educación\")\n",
    "plt.ylabel(\"Salario\")\n",
    "plt.title('Distribución del salario de los clientes por educación', fontsize=12)"
   ]
  },
  {
   "cell_type": "markdown",
   "id": "1a65674f",
   "metadata": {},
   "source": [
    "4. ¿Cómo se compara el salario promedio entre los diferentes niveles educativos de los clientes?\n",
    "\n",
    "Lo primero recordar que los datos de 'College' aparecían vacíos (todos sus datos eran nulos). Debido a que la educación de 'College' está situada entre 'High School or Below' y 'Bachelor', al hacer la limpieza modifiqué estos datos de 'College' con la media resultante de sumar los datos de 'High School or Below' y los datos de 'Bachelor'.\n",
    "Dicho esto, tanto en los datos (medias del salario por cada nivel de estudio), como en este gráfico Barplot podemos ver una distribución exponencial (a mayor nivel de estudios, mayor salario).\n",
    "\n",
    "### 5. ¿Cuál es la proporción de clientes con diferentes tipos de tarjetas de fidelidad?"
   ]
  },
  {
   "cell_type": "code",
   "execution_count": 24,
   "id": "198b041a",
   "metadata": {},
   "outputs": [
    {
     "data": {
      "text/plain": [
       "np.int64(0)"
      ]
     },
     "execution_count": 24,
     "metadata": {},
     "output_type": "execute_result"
    }
   ],
   "source": [
    "# necesitaré la columna \"Loyalty Card\":\n",
    "df['Loyalty Card'].isnull().sum()\n",
    "# no tenemos ningún nulo: todos los clientes tiene una tarjeta de fidelidad"
   ]
  },
  {
   "cell_type": "code",
   "execution_count": 25,
   "id": "a5f23b95",
   "metadata": {},
   "outputs": [
    {
     "data": {
      "text/plain": [
       "Loyalty Card\n",
       "Star      183745\n",
       "Nova      136883\n",
       "Aurora     83132\n",
       "Name: count, dtype: int64"
      ]
     },
     "execution_count": 25,
     "metadata": {},
     "output_type": "execute_result"
    }
   ],
   "source": [
    "# saco los valores absolutos:\n",
    "df['Loyalty Card'].value_counts()"
   ]
  },
  {
   "cell_type": "code",
   "execution_count": 26,
   "id": "d55489ed",
   "metadata": {},
   "outputs": [
    {
     "data": {
      "text/plain": [
       "Loyalty Card\n",
       "Star      45.51\n",
       "Nova      33.90\n",
       "Aurora    20.59\n",
       "Name: proportion, dtype: float64"
      ]
     },
     "execution_count": 26,
     "metadata": {},
     "output_type": "execute_result"
    }
   ],
   "source": [
    "# saco los valores relativos (la proporción o porcentaje respecto al total):\n",
    "round(df['Loyalty Card'].value_counts(normalize=True) * 100, 2)"
   ]
  },
  {
   "cell_type": "code",
   "execution_count": 27,
   "id": "f2bf962b",
   "metadata": {},
   "outputs": [
    {
     "data": {
      "text/html": [
       "<div>\n",
       "<style scoped>\n",
       "    .dataframe tbody tr th:only-of-type {\n",
       "        vertical-align: middle;\n",
       "    }\n",
       "\n",
       "    .dataframe tbody tr th {\n",
       "        vertical-align: top;\n",
       "    }\n",
       "\n",
       "    .dataframe thead th {\n",
       "        text-align: right;\n",
       "    }\n",
       "</style>\n",
       "<table border=\"1\" class=\"dataframe\">\n",
       "  <thead>\n",
       "    <tr style=\"text-align: right;\">\n",
       "      <th></th>\n",
       "      <th>Loyalty Card</th>\n",
       "      <th>proportion</th>\n",
       "    </tr>\n",
       "  </thead>\n",
       "  <tbody>\n",
       "    <tr>\n",
       "      <th>0</th>\n",
       "      <td>Star</td>\n",
       "      <td>45.51</td>\n",
       "    </tr>\n",
       "    <tr>\n",
       "      <th>1</th>\n",
       "      <td>Nova</td>\n",
       "      <td>33.90</td>\n",
       "    </tr>\n",
       "    <tr>\n",
       "      <th>2</th>\n",
       "      <td>Aurora</td>\n",
       "      <td>20.59</td>\n",
       "    </tr>\n",
       "  </tbody>\n",
       "</table>\n",
       "</div>"
      ],
      "text/plain": [
       "  Loyalty Card  proportion\n",
       "0         Star       45.51\n",
       "1         Nova       33.90\n",
       "2       Aurora       20.59"
      ]
     },
     "execution_count": 27,
     "metadata": {},
     "output_type": "execute_result"
    }
   ],
   "source": [
    "df_tarjeta = round(df['Loyalty Card'].value_counts(normalize=True) * 100, 2).reset_index()\n",
    "df_tarjeta"
   ]
  },
  {
   "cell_type": "code",
   "execution_count": 28,
   "id": "4240f92b",
   "metadata": {},
   "outputs": [
    {
     "data": {
      "text/plain": [
       "Text(0.5, 1.0, 'Pieplot con el Porcentaje de clientes por tarjeta de fidelidad')"
      ]
     },
     "execution_count": 28,
     "metadata": {},
     "output_type": "execute_result"
    },
    {
     "data": {
      "image/png": "[encoded data removed]",
      "text/plain": [
       "<Figure size 1500x600 with 2 Axes>"
      ]
     },
     "metadata": {},
     "output_type": "display_data"
    }
   ],
   "source": [
    "# para visualizarlo mejor voy a usar un Countplot y un Pieplot:\n",
    "\n",
    "fig, axes = plt.subplots(nrows = 1, ncols = 2, figsize = (15, 6))\n",
    "\n",
    "sns.countplot(data=df, x='Loyalty Card', ax=axes[0])\n",
    "axes[0].set_title('Countplot con el Número de clientes por tarjeta de fidelidad')\n",
    "\n",
    "\n",
    "colores = [\"seagreen\", \"turquoise\", \"lightseagreen\"]\n",
    "plt.pie('proportion', labels= 'Loyalty Card', data = df_tarjeta, autopct=  '%1.1f%%', colors = colores, textprops={'fontsize': 8}, startangle=90)\n",
    "plt.xlabel(\"Tarjetas de fidelidad\")\n",
    "plt.ylabel(\"% clientes\")\n",
    "plt.title('Pieplot con el Porcentaje de clientes por tarjeta de fidelidad', fontsize=12)\n"
   ]
  },
  {
   "cell_type": "markdown",
   "id": "fa3ee642",
   "metadata": {},
   "source": [
    "5. ¿Cuál es la proporción de clientes con diferentes tipos de tarjetas de fidelidad?\n",
    "\n",
    "Como podemos ver, tenemos 3 tipos de tarjetas de fidelidad:\n",
    "\n",
    "- Aurora: con 83.132 clientes, es un 20,59% del total\n",
    "\n",
    "- Nova: con 136.883 clientes, tiene un 33,90% del total\n",
    "\n",
    "- Star: con 183.745 clientes, es un 45,51% del total\n",
    "\n",
    "No hay clientes sin tarjeta de fidelidad, por lo que estos porcentajes son proporciones respecto al total de clientes. \n",
    "\n",
    "### 6. ¿Cómo se distribuyen los clientes según su estado civil y género?"
   ]
  },
  {
   "cell_type": "code",
   "execution_count": 29,
   "id": "797187fb",
   "metadata": {},
   "outputs": [
    {
     "data": {
      "text/plain": [
       "Marital Status\n",
       "Married     234845\n",
       "Single      108153\n",
       "Divorced     60762\n",
       "Name: count, dtype: int64"
      ]
     },
     "execution_count": 29,
     "metadata": {},
     "output_type": "execute_result"
    }
   ],
   "source": [
    "# necesitaré las columnas \"Marital Status\" y \"Gender\":\n",
    "df['Marital Status'].value_counts()\n",
    "# 'Marital status' tiene 3 valores: (no hay nulos)"
   ]
  },
  {
   "cell_type": "code",
   "execution_count": 30,
   "id": "0c18322e",
   "metadata": {},
   "outputs": [
    {
     "data": {
      "text/plain": [
       "Gender\n",
       "Female    202757\n",
       "Male      201003\n",
       "Name: count, dtype: int64"
      ]
     },
     "execution_count": 30,
     "metadata": {},
     "output_type": "execute_result"
    }
   ],
   "source": [
    "df['Gender'].value_counts()\n",
    "# 'Gender' tiene 2 valores: (no hay nulos)"
   ]
  },
  {
   "cell_type": "code",
   "execution_count": 31,
   "id": "4d7945d5",
   "metadata": {},
   "outputs": [
    {
     "data": {
      "text/html": [
       "<div>\n",
       "<style scoped>\n",
       "    .dataframe tbody tr th:only-of-type {\n",
       "        vertical-align: middle;\n",
       "    }\n",
       "\n",
       "    .dataframe tbody tr th {\n",
       "        vertical-align: top;\n",
       "    }\n",
       "\n",
       "    .dataframe thead th {\n",
       "        text-align: right;\n",
       "    }\n",
       "</style>\n",
       "<table border=\"1\" class=\"dataframe\">\n",
       "  <thead>\n",
       "    <tr style=\"text-align: right;\">\n",
       "      <th></th>\n",
       "      <th>Marital Status</th>\n",
       "      <th>Gender</th>\n",
       "      <th>Loyalty Number</th>\n",
       "    </tr>\n",
       "  </thead>\n",
       "  <tbody>\n",
       "    <tr>\n",
       "      <th>0</th>\n",
       "      <td>Divorced</td>\n",
       "      <td>Female</td>\n",
       "      <td>30634</td>\n",
       "    </tr>\n",
       "    <tr>\n",
       "      <th>1</th>\n",
       "      <td>Divorced</td>\n",
       "      <td>Male</td>\n",
       "      <td>30128</td>\n",
       "    </tr>\n",
       "    <tr>\n",
       "      <th>2</th>\n",
       "      <td>Married</td>\n",
       "      <td>Female</td>\n",
       "      <td>117363</td>\n",
       "    </tr>\n",
       "    <tr>\n",
       "      <th>3</th>\n",
       "      <td>Married</td>\n",
       "      <td>Male</td>\n",
       "      <td>117482</td>\n",
       "    </tr>\n",
       "    <tr>\n",
       "      <th>4</th>\n",
       "      <td>Single</td>\n",
       "      <td>Female</td>\n",
       "      <td>54760</td>\n",
       "    </tr>\n",
       "    <tr>\n",
       "      <th>5</th>\n",
       "      <td>Single</td>\n",
       "      <td>Male</td>\n",
       "      <td>53393</td>\n",
       "    </tr>\n",
       "  </tbody>\n",
       "</table>\n",
       "</div>"
      ],
      "text/plain": [
       "  Marital Status  Gender  Loyalty Number\n",
       "0       Divorced  Female           30634\n",
       "1       Divorced    Male           30128\n",
       "2        Married  Female          117363\n",
       "3        Married    Male          117482\n",
       "4         Single  Female           54760\n",
       "5         Single    Male           53393"
      ]
     },
     "execution_count": 31,
     "metadata": {},
     "output_type": "execute_result"
    }
   ],
   "source": [
    "# con un groupby, un count y 'Loyalty Number' saco el número de clientes que hay por género y estado civil:\n",
    "df.groupby(['Marital Status', 'Gender'])['Loyalty Number'].count().reset_index()"
   ]
  },
  {
   "cell_type": "code",
   "execution_count": 32,
   "id": "ea25c30b",
   "metadata": {},
   "outputs": [],
   "source": [
    "# lo paso a df y saco los porcentajes:\n",
    "df_género_estado_civil = df.groupby(['Marital Status', 'Gender'])['Loyalty Number'].count().reset_index(name='Recuento')"
   ]
  },
  {
   "cell_type": "code",
   "execution_count": 33,
   "id": "ed1d983a",
   "metadata": {},
   "outputs": [],
   "source": [
    "# saco un df_total con la suma de los recuentos\n",
    "df_total =df_género_estado_civil['Recuento'].sum()"
   ]
  },
  {
   "cell_type": "code",
   "execution_count": 34,
   "id": "b977e2dd",
   "metadata": {},
   "outputs": [
    {
     "data": {
      "text/plain": [
       "np.int64(403760)"
      ]
     },
     "execution_count": 34,
     "metadata": {},
     "output_type": "execute_result"
    }
   ],
   "source": [
    "# que me da el número total de filas\n",
    "df_total"
   ]
  },
  {
   "cell_type": "code",
   "execution_count": 35,
   "id": "35ebc91d",
   "metadata": {},
   "outputs": [],
   "source": [
    "# el porcentaje será = (recuento/total)*100\n",
    "df_género_estado_civil['Porcentaje'] = (df_género_estado_civil['Recuento']/df_total)*100"
   ]
  },
  {
   "cell_type": "code",
   "execution_count": 36,
   "id": "901cfb8e",
   "metadata": {},
   "outputs": [
    {
     "data": {
      "text/plain": [
       "0     7.587181\n",
       "1     7.461859\n",
       "2    29.067515\n",
       "3    29.096988\n",
       "4    13.562512\n",
       "5    13.223945\n",
       "Name: Porcentaje, dtype: float64"
      ]
     },
     "execution_count": 36,
     "metadata": {},
     "output_type": "execute_result"
    }
   ],
   "source": [
    "df_género_estado_civil['Porcentaje'] "
   ]
  },
  {
   "cell_type": "code",
   "execution_count": 37,
   "id": "4f9e1923",
   "metadata": {},
   "outputs": [],
   "source": [
    "# redondeo:\n",
    "df_género_estado_civil['Porcentaje'] = round(df_género_estado_civil['Porcentaje'], 2)"
   ]
  },
  {
   "cell_type": "code",
   "execution_count": 38,
   "id": "ca804233",
   "metadata": {},
   "outputs": [
    {
     "data": {
      "text/plain": [
       "0     7.59\n",
       "1     7.46\n",
       "2    29.07\n",
       "3    29.10\n",
       "4    13.56\n",
       "5    13.22\n",
       "Name: Porcentaje, dtype: float64"
      ]
     },
     "execution_count": 38,
     "metadata": {},
     "output_type": "execute_result"
    }
   ],
   "source": [
    "df_género_estado_civil['Porcentaje']"
   ]
  },
  {
   "cell_type": "code",
   "execution_count": 39,
   "id": "b4e1bd1f",
   "metadata": {},
   "outputs": [
    {
     "data": {
      "text/html": [
       "<div>\n",
       "<style scoped>\n",
       "    .dataframe tbody tr th:only-of-type {\n",
       "        vertical-align: middle;\n",
       "    }\n",
       "\n",
       "    .dataframe tbody tr th {\n",
       "        vertical-align: top;\n",
       "    }\n",
       "\n",
       "    .dataframe thead th {\n",
       "        text-align: right;\n",
       "    }\n",
       "</style>\n",
       "<table border=\"1\" class=\"dataframe\">\n",
       "  <thead>\n",
       "    <tr style=\"text-align: right;\">\n",
       "      <th></th>\n",
       "      <th>Marital Status</th>\n",
       "      <th>Gender</th>\n",
       "      <th>Recuento</th>\n",
       "      <th>Porcentaje</th>\n",
       "    </tr>\n",
       "  </thead>\n",
       "  <tbody>\n",
       "    <tr>\n",
       "      <th>0</th>\n",
       "      <td>Divorced</td>\n",
       "      <td>Female</td>\n",
       "      <td>30634</td>\n",
       "      <td>7.59</td>\n",
       "    </tr>\n",
       "    <tr>\n",
       "      <th>1</th>\n",
       "      <td>Divorced</td>\n",
       "      <td>Male</td>\n",
       "      <td>30128</td>\n",
       "      <td>7.46</td>\n",
       "    </tr>\n",
       "    <tr>\n",
       "      <th>2</th>\n",
       "      <td>Married</td>\n",
       "      <td>Female</td>\n",
       "      <td>117363</td>\n",
       "      <td>29.07</td>\n",
       "    </tr>\n",
       "    <tr>\n",
       "      <th>3</th>\n",
       "      <td>Married</td>\n",
       "      <td>Male</td>\n",
       "      <td>117482</td>\n",
       "      <td>29.10</td>\n",
       "    </tr>\n",
       "    <tr>\n",
       "      <th>4</th>\n",
       "      <td>Single</td>\n",
       "      <td>Female</td>\n",
       "      <td>54760</td>\n",
       "      <td>13.56</td>\n",
       "    </tr>\n",
       "    <tr>\n",
       "      <th>5</th>\n",
       "      <td>Single</td>\n",
       "      <td>Male</td>\n",
       "      <td>53393</td>\n",
       "      <td>13.22</td>\n",
       "    </tr>\n",
       "  </tbody>\n",
       "</table>\n",
       "</div>"
      ],
      "text/plain": [
       "  Marital Status  Gender  Recuento  Porcentaje\n",
       "0       Divorced  Female     30634        7.59\n",
       "1       Divorced    Male     30128        7.46\n",
       "2        Married  Female    117363       29.07\n",
       "3        Married    Male    117482       29.10\n",
       "4         Single  Female     54760       13.56\n",
       "5         Single    Male     53393       13.22"
      ]
     },
     "execution_count": 39,
     "metadata": {},
     "output_type": "execute_result"
    }
   ],
   "source": [
    "# el df para poder usarlo en el Pieplot:\n",
    "df_género_estado_civil"
   ]
  },
  {
   "cell_type": "code",
   "execution_count": 40,
   "id": "80cc6359",
   "metadata": {},
   "outputs": [
    {
     "data": {
      "text/plain": [
       "Text(0.5, 1.0, 'Pieplot con la Distribución de clientes según su estado civil y género')"
      ]
     },
     "execution_count": 40,
     "metadata": {},
     "output_type": "execute_result"
    },
    {
     "data": {
      "image/png": "[encoded data removed]",
      "text/plain": [
       "<Figure size 1500x1000 with 4 Axes>"
      ]
     },
     "metadata": {},
     "output_type": "display_data"
    }
   ],
   "source": [
    "# para visualizarlo mejor voy a usar un Countplot y un Barplot:\n",
    "\n",
    "fig, axes = plt.subplots(nrows = 2, ncols = 2, figsize = (15, 10))\n",
    "\n",
    "sns.countplot(data=df, x='Marital Status', ax=axes[0,0])\n",
    "axes[0,0].set_title('Countplot con la Distribución de clientes según su estado civil')\n",
    "\n",
    "sns.countplot(data=df, x='Gender', ax=axes[0,1])\n",
    "axes[0,1].set_title('Countplot con la Distribución de clientes según su género')\n",
    "\n",
    "sns.countplot(data=df, x='Marital Status', hue='Gender', ax=axes[1,0])\n",
    "axes[1,0].set_title('Countplot con la Distribución de clientes según su estado civil y género')\n",
    "\n",
    "\n",
    "colores = [\"c\", \"cadetblue\", \"mediumseagreen\", \"seagreen\", \"teal\", \"turquoise\", \"lightseagreen\"]\n",
    "plt.pie('Porcentaje', labels= 'Gender', data = df_género_estado_civil, autopct=  '%1.1f%%', colors = colores, textprops={'fontsize': 8}, startangle=180)\n",
    "plt.xlabel(\"Género\")\n",
    "plt.ylabel(\"% clientes\")\n",
    "plt.title('Pieplot con la Distribución de clientes según su estado civil y género', fontsize=12)"
   ]
  },
  {
   "cell_type": "markdown",
   "id": "0396e7a9",
   "metadata": {},
   "source": [
    "6. ¿Cómo se distribuyen los clientes según su estado civil y género?\n",
    "\n",
    "He sacado 4 gráficas para ver mejor los datos de género y estado civil:\n",
    "\n",
    "- En el Countplot con la Distribución de clientes según su estado civil: podemos ver que tenemos 3 categorías:\n",
    "\n",
    "   - Married: con 234.845 clientes (58,17%)\n",
    "   - Single: con 108.153 clientes (26,79%)\n",
    "   - Divorced: con 60.762 clientes (15,04%)\n",
    "\n",
    "- En el Countplot con la Distribución de clientes según su género: podemos ver que tenemos 2 categorías:\n",
    "\n",
    "   - Female: con 202.757 clientas (50,22%)\n",
    "   - Male: con 201.003 clientes (49,78%)\n",
    "\n",
    "Según los datos, veo que 'Female' y 'Male' son prácticamente iguales respecto a su estado civil:\n",
    "\n",
    "   - Married: tiene un total de 58,17%, siendo un 29.07% de 'Female' y un 29.10% de 'Male'\n",
    "   - Single: tiene un total de 26,78%, siendo un 13.56% de 'Female' y un 13.22% de 'Male'\n",
    "   - Divorced: tiene un total de 15,05%, siendo un 7.59% de 'Female' y un 7.46% de 'Male'\n"
   ]
  }
 ],
 "metadata": {
  "kernelspec": {
   "display_name": "Promo_56",
   "language": "python",
   "name": "python3"
  },
  "language_info": {
   "codemirror_mode": {
    "name": "ipython",
    "version": 3
   },
   "file_extension": ".py",
   "mimetype": "text/x-python",
   "name": "python",
   "nbconvert_exporter": "python",
   "pygments_lexer": "ipython3",
   "version": "3.12.11"
  }
 },
 "nbformat": 4,
 "nbformat_minor": 5
}
